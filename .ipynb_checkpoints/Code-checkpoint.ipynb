{
 "cells": [
  {
   "cell_type": "markdown",
   "id": "82b043e4",
   "metadata": {
    "execution": {
     "iopub.execute_input": "2023-04-02T06:00:05.766623Z",
     "iopub.status.busy": "2023-04-02T06:00:05.766108Z",
     "iopub.status.idle": "2023-04-02T06:00:05.773018Z",
     "shell.execute_reply": "2023-04-02T06:00:05.771142Z",
     "shell.execute_reply.started": "2023-04-02T06:00:05.766580Z"
    },
    "papermill": {
     "duration": 0.019605,
     "end_time": "2023-04-02T06:50:27.252266",
     "exception": false,
     "start_time": "2023-04-02T06:50:27.232661",
     "status": "completed"
    },
    "tags": []
   },
   "source": [
    "### Data Description\n",
    "\n",
    "The dataset is the Statlog Heart Disease dataset taken from the UCI repository. This dataset consists of 13 features and a target variable. It has 8 nominal variables and 5 numeric variables. The detailed description of all these features are as follows:\n",
    "\n",
    "1. Age: Patients Age in years (Numeric)\n",
    "2. Sex: Gender  (Male : 1; Female : 0) (Nominal)\n",
    "3. cp: Type of chest pain experienced by patient. This term  categorized into 4 category.\n",
    "                  0 typical angina, 1 atypical angina, 2 non- anginal pain, 3 asymptomatic (Nominal)\n",
    "4. trestbps: patient's level of blood pressure at resting mode in mm/HG (Numerical)\n",
    "5. chol: Serum cholesterol in mg/dl (Numeric)\n",
    "6. fbs: Blood sugar levels on fasting > 120 mg/dl represents as 1 in case of true and 0 as false (Nominal)\n",
    "7. restecg: Result of electrocardiogram while at rest are represented in 3 distinct values \n",
    "                 0 : Normal 1: having ST-T wave abnormality (T wave inversions and/or ST elevation or depression of > 0.05 mV) \n",
    "                 2: showing probable or definite left ventricular hypertrophyby Estes' criteria (Nominal)\n",
    "8. thalach: Maximum heart rate achieved (Numeric)\n",
    "9. exang: Angina induced by exercise 0 depicting NO 1 depicting Yes (Nominal)\n",
    "10. oldpeak: Exercise induced ST-depression in relative with the state of rest (Numeric)\n",
    "11. slope: ST segment measured in terms of slope during peak exercise  \n",
    "                  0: up sloping; 1: flat; 2: down sloping(Nominal)\n",
    "12. ca: The number of major vessels (0–3)(nominal)\n",
    "13. thal: A blood disorder called thalassemia \n",
    "                 0: NULL 1: normal blood flow 2: fixed defect (no blood flow in some part of the heart)  3: reversible defect (a blood flow is observed but it is not normal(nominal)\n",
    "14. target: It is the target variable which we have to predict 1 means patient is suffering from heart disease and 0 means patient is normal."
   ]
  },
  {
   "cell_type": "markdown",
   "id": "191d07bb",
   "metadata": {
    "papermill": {
     "duration": 0.016647,
     "end_time": "2023-04-02T06:50:27.287306",
     "exception": false,
     "start_time": "2023-04-02T06:50:27.270659",
     "status": "completed"
    },
    "tags": []
   },
   "source": [
    "### Importing Libraries"
   ]
  },
  {
   "cell_type": "code",
   "execution_count": 64,
   "id": "c0011885",
   "metadata": {
    "papermill": {
     "duration": 1.935683,
     "end_time": "2023-04-02T06:50:29.246131",
     "exception": false,
     "start_time": "2023-04-02T06:50:27.310448",
     "status": "completed"
    },
    "tags": []
   },
   "outputs": [],
   "source": [
    "#Importing Libraries\n",
    "import numpy as np\n",
    "import pandas as pd\n",
    "import seaborn as sns\n",
    "import matplotlib.pyplot as plt\n",
    "import seaborn as sns\n",
    "\n",
    "from sklearn.model_selection import train_test_split\n",
    "from sklearn.metrics import log_loss,roc_auc_score,precision_score,f1_score,recall_score,roc_curve,auc\n",
    "from sklearn.metrics import classification_report, confusion_matrix,accuracy_score,fbeta_score,matthews_corrcoef\n",
    "from sklearn import metrics\n",
    "\n",
    "# machine learning algorithms\n",
    "from sklearn.neighbors import KNeighborsClassifier\n",
    "\n",
    "from scipy import stats\n",
    "import warnings\n",
    "warnings.filterwarnings('ignore')"
   ]
  },
  {
   "cell_type": "code",
   "execution_count": 65,
   "id": "0abb1821",
   "metadata": {
    "papermill": {
     "duration": 0.073979,
     "end_time": "2023-04-02T06:50:29.336827",
     "exception": false,
     "start_time": "2023-04-02T06:50:29.262848",
     "status": "completed"
    },
    "tags": []
   },
   "outputs": [
    {
     "data": {
      "text/html": [
       "<div>\n",
       "<style scoped>\n",
       "    .dataframe tbody tr th:only-of-type {\n",
       "        vertical-align: middle;\n",
       "    }\n",
       "\n",
       "    .dataframe tbody tr th {\n",
       "        vertical-align: top;\n",
       "    }\n",
       "\n",
       "    .dataframe thead th {\n",
       "        text-align: right;\n",
       "    }\n",
       "</style>\n",
       "<table border=\"1\" class=\"dataframe\">\n",
       "  <thead>\n",
       "    <tr style=\"text-align: right;\">\n",
       "      <th></th>\n",
       "      <th>age</th>\n",
       "      <th>sex</th>\n",
       "      <th>cp</th>\n",
       "      <th>trestbps</th>\n",
       "      <th>chol</th>\n",
       "      <th>fbs</th>\n",
       "      <th>restecg</th>\n",
       "      <th>thalach</th>\n",
       "      <th>exang</th>\n",
       "      <th>oldpeak</th>\n",
       "      <th>slope</th>\n",
       "      <th>ca</th>\n",
       "      <th>thal</th>\n",
       "      <th>target</th>\n",
       "    </tr>\n",
       "  </thead>\n",
       "  <tbody>\n",
       "    <tr>\n",
       "      <th>0</th>\n",
       "      <td>70</td>\n",
       "      <td>1</td>\n",
       "      <td>3</td>\n",
       "      <td>130</td>\n",
       "      <td>322</td>\n",
       "      <td>0</td>\n",
       "      <td>2</td>\n",
       "      <td>109</td>\n",
       "      <td>0</td>\n",
       "      <td>2.4</td>\n",
       "      <td>1</td>\n",
       "      <td>3</td>\n",
       "      <td>1</td>\n",
       "      <td>1</td>\n",
       "    </tr>\n",
       "    <tr>\n",
       "      <th>1</th>\n",
       "      <td>67</td>\n",
       "      <td>0</td>\n",
       "      <td>2</td>\n",
       "      <td>115</td>\n",
       "      <td>564</td>\n",
       "      <td>0</td>\n",
       "      <td>2</td>\n",
       "      <td>160</td>\n",
       "      <td>0</td>\n",
       "      <td>1.6</td>\n",
       "      <td>1</td>\n",
       "      <td>0</td>\n",
       "      <td>3</td>\n",
       "      <td>0</td>\n",
       "    </tr>\n",
       "    <tr>\n",
       "      <th>2</th>\n",
       "      <td>57</td>\n",
       "      <td>1</td>\n",
       "      <td>1</td>\n",
       "      <td>124</td>\n",
       "      <td>261</td>\n",
       "      <td>0</td>\n",
       "      <td>0</td>\n",
       "      <td>141</td>\n",
       "      <td>0</td>\n",
       "      <td>0.3</td>\n",
       "      <td>0</td>\n",
       "      <td>0</td>\n",
       "      <td>3</td>\n",
       "      <td>1</td>\n",
       "    </tr>\n",
       "    <tr>\n",
       "      <th>3</th>\n",
       "      <td>64</td>\n",
       "      <td>1</td>\n",
       "      <td>3</td>\n",
       "      <td>128</td>\n",
       "      <td>263</td>\n",
       "      <td>0</td>\n",
       "      <td>0</td>\n",
       "      <td>105</td>\n",
       "      <td>1</td>\n",
       "      <td>0.2</td>\n",
       "      <td>1</td>\n",
       "      <td>1</td>\n",
       "      <td>3</td>\n",
       "      <td>0</td>\n",
       "    </tr>\n",
       "    <tr>\n",
       "      <th>4</th>\n",
       "      <td>74</td>\n",
       "      <td>0</td>\n",
       "      <td>1</td>\n",
       "      <td>120</td>\n",
       "      <td>269</td>\n",
       "      <td>0</td>\n",
       "      <td>2</td>\n",
       "      <td>121</td>\n",
       "      <td>1</td>\n",
       "      <td>0.2</td>\n",
       "      <td>0</td>\n",
       "      <td>1</td>\n",
       "      <td>1</td>\n",
       "      <td>0</td>\n",
       "    </tr>\n",
       "  </tbody>\n",
       "</table>\n",
       "</div>"
      ],
      "text/plain": [
       "   age  sex  cp  trestbps  chol  fbs  restecg  thalach  exang  oldpeak  slope  \\\n",
       "0   70    1   3       130   322    0        2      109      0      2.4      1   \n",
       "1   67    0   2       115   564    0        2      160      0      1.6      1   \n",
       "2   57    1   1       124   261    0        0      141      0      0.3      0   \n",
       "3   64    1   3       128   263    0        0      105      1      0.2      1   \n",
       "4   74    0   1       120   269    0        2      121      1      0.2      0   \n",
       "\n",
       "   ca  thal  target  \n",
       "0   3     1       1  \n",
       "1   0     3       0  \n",
       "2   0     3       1  \n",
       "3   1     3       0  \n",
       "4   1     1       0  "
      ]
     },
     "execution_count": 65,
     "metadata": {},
     "output_type": "execute_result"
    }
   ],
   "source": [
    "# loading the dataset\n",
    "df = pd.read_csv('Heart_disease_statlog.csv')\n",
    "df.head()"
   ]
  },
  {
   "cell_type": "code",
   "execution_count": 66,
   "id": "f1441a23",
   "metadata": {
    "papermill": {
     "duration": 0.02908,
     "end_time": "2023-04-02T06:50:29.382990",
     "exception": false,
     "start_time": "2023-04-02T06:50:29.353910",
     "status": "completed"
    },
    "tags": []
   },
   "outputs": [
    {
     "data": {
      "text/plain": [
       "(270, 14)"
      ]
     },
     "execution_count": 66,
     "metadata": {},
     "output_type": "execute_result"
    }
   ],
   "source": [
    "df.shape"
   ]
  },
  {
   "cell_type": "code",
   "execution_count": 67,
   "id": "92afca8c",
   "metadata": {
    "papermill": {
     "duration": 0.049986,
     "end_time": "2023-04-02T06:50:29.450024",
     "exception": false,
     "start_time": "2023-04-02T06:50:29.400038",
     "status": "completed"
    },
    "tags": []
   },
   "outputs": [
    {
     "name": "stdout",
     "output_type": "stream",
     "text": [
      "<class 'pandas.core.frame.DataFrame'>\n",
      "RangeIndex: 270 entries, 0 to 269\n",
      "Data columns (total 14 columns):\n",
      " #   Column    Non-Null Count  Dtype  \n",
      "---  ------    --------------  -----  \n",
      " 0   age       270 non-null    int64  \n",
      " 1   sex       270 non-null    int64  \n",
      " 2   cp        270 non-null    int64  \n",
      " 3   trestbps  270 non-null    int64  \n",
      " 4   chol      270 non-null    int64  \n",
      " 5   fbs       270 non-null    int64  \n",
      " 6   restecg   270 non-null    int64  \n",
      " 7   thalach   270 non-null    int64  \n",
      " 8   exang     270 non-null    int64  \n",
      " 9   oldpeak   270 non-null    float64\n",
      " 10  slope     270 non-null    int64  \n",
      " 11  ca        270 non-null    int64  \n",
      " 12  thal      270 non-null    int64  \n",
      " 13  target    270 non-null    int64  \n",
      "dtypes: float64(1), int64(13)\n",
      "memory usage: 29.7 KB\n"
     ]
    }
   ],
   "source": [
    "df.info()"
   ]
  },
  {
   "cell_type": "code",
   "execution_count": 68,
   "id": "740e86be",
   "metadata": {
    "papermill": {
     "duration": 0.07857,
     "end_time": "2023-04-02T06:50:29.547031",
     "exception": false,
     "start_time": "2023-04-02T06:50:29.468461",
     "status": "completed"
    },
    "tags": []
   },
   "outputs": [
    {
     "data": {
      "text/html": [
       "<div>\n",
       "<style scoped>\n",
       "    .dataframe tbody tr th:only-of-type {\n",
       "        vertical-align: middle;\n",
       "    }\n",
       "\n",
       "    .dataframe tbody tr th {\n",
       "        vertical-align: top;\n",
       "    }\n",
       "\n",
       "    .dataframe thead th {\n",
       "        text-align: right;\n",
       "    }\n",
       "</style>\n",
       "<table border=\"1\" class=\"dataframe\">\n",
       "  <thead>\n",
       "    <tr style=\"text-align: right;\">\n",
       "      <th></th>\n",
       "      <th>age</th>\n",
       "      <th>sex</th>\n",
       "      <th>cp</th>\n",
       "      <th>trestbps</th>\n",
       "      <th>chol</th>\n",
       "      <th>fbs</th>\n",
       "      <th>restecg</th>\n",
       "      <th>thalach</th>\n",
       "      <th>exang</th>\n",
       "      <th>oldpeak</th>\n",
       "      <th>slope</th>\n",
       "      <th>ca</th>\n",
       "      <th>thal</th>\n",
       "      <th>target</th>\n",
       "    </tr>\n",
       "  </thead>\n",
       "  <tbody>\n",
       "    <tr>\n",
       "      <th>count</th>\n",
       "      <td>270.000000</td>\n",
       "      <td>270.000000</td>\n",
       "      <td>270.000000</td>\n",
       "      <td>270.000000</td>\n",
       "      <td>270.000000</td>\n",
       "      <td>270.000000</td>\n",
       "      <td>270.000000</td>\n",
       "      <td>270.000000</td>\n",
       "      <td>270.000000</td>\n",
       "      <td>270.00000</td>\n",
       "      <td>270.000000</td>\n",
       "      <td>270.000000</td>\n",
       "      <td>270.000000</td>\n",
       "      <td>270.000000</td>\n",
       "    </tr>\n",
       "    <tr>\n",
       "      <th>mean</th>\n",
       "      <td>54.433333</td>\n",
       "      <td>0.677778</td>\n",
       "      <td>2.174074</td>\n",
       "      <td>131.344444</td>\n",
       "      <td>249.659259</td>\n",
       "      <td>0.148148</td>\n",
       "      <td>1.022222</td>\n",
       "      <td>149.677778</td>\n",
       "      <td>0.329630</td>\n",
       "      <td>1.05000</td>\n",
       "      <td>0.585185</td>\n",
       "      <td>0.670370</td>\n",
       "      <td>1.822222</td>\n",
       "      <td>0.444444</td>\n",
       "    </tr>\n",
       "    <tr>\n",
       "      <th>std</th>\n",
       "      <td>9.109067</td>\n",
       "      <td>0.468195</td>\n",
       "      <td>0.950090</td>\n",
       "      <td>17.861608</td>\n",
       "      <td>51.686237</td>\n",
       "      <td>0.355906</td>\n",
       "      <td>0.997891</td>\n",
       "      <td>23.165717</td>\n",
       "      <td>0.470952</td>\n",
       "      <td>1.14521</td>\n",
       "      <td>0.614390</td>\n",
       "      <td>0.943896</td>\n",
       "      <td>0.959140</td>\n",
       "      <td>0.497827</td>\n",
       "    </tr>\n",
       "    <tr>\n",
       "      <th>min</th>\n",
       "      <td>29.000000</td>\n",
       "      <td>0.000000</td>\n",
       "      <td>0.000000</td>\n",
       "      <td>94.000000</td>\n",
       "      <td>126.000000</td>\n",
       "      <td>0.000000</td>\n",
       "      <td>0.000000</td>\n",
       "      <td>71.000000</td>\n",
       "      <td>0.000000</td>\n",
       "      <td>0.00000</td>\n",
       "      <td>0.000000</td>\n",
       "      <td>0.000000</td>\n",
       "      <td>1.000000</td>\n",
       "      <td>0.000000</td>\n",
       "    </tr>\n",
       "    <tr>\n",
       "      <th>25%</th>\n",
       "      <td>48.000000</td>\n",
       "      <td>0.000000</td>\n",
       "      <td>2.000000</td>\n",
       "      <td>120.000000</td>\n",
       "      <td>213.000000</td>\n",
       "      <td>0.000000</td>\n",
       "      <td>0.000000</td>\n",
       "      <td>133.000000</td>\n",
       "      <td>0.000000</td>\n",
       "      <td>0.00000</td>\n",
       "      <td>0.000000</td>\n",
       "      <td>0.000000</td>\n",
       "      <td>1.000000</td>\n",
       "      <td>0.000000</td>\n",
       "    </tr>\n",
       "    <tr>\n",
       "      <th>50%</th>\n",
       "      <td>55.000000</td>\n",
       "      <td>1.000000</td>\n",
       "      <td>2.000000</td>\n",
       "      <td>130.000000</td>\n",
       "      <td>245.000000</td>\n",
       "      <td>0.000000</td>\n",
       "      <td>2.000000</td>\n",
       "      <td>153.500000</td>\n",
       "      <td>0.000000</td>\n",
       "      <td>0.80000</td>\n",
       "      <td>1.000000</td>\n",
       "      <td>0.000000</td>\n",
       "      <td>1.000000</td>\n",
       "      <td>0.000000</td>\n",
       "    </tr>\n",
       "    <tr>\n",
       "      <th>75%</th>\n",
       "      <td>61.000000</td>\n",
       "      <td>1.000000</td>\n",
       "      <td>3.000000</td>\n",
       "      <td>140.000000</td>\n",
       "      <td>280.000000</td>\n",
       "      <td>0.000000</td>\n",
       "      <td>2.000000</td>\n",
       "      <td>166.000000</td>\n",
       "      <td>1.000000</td>\n",
       "      <td>1.60000</td>\n",
       "      <td>1.000000</td>\n",
       "      <td>1.000000</td>\n",
       "      <td>3.000000</td>\n",
       "      <td>1.000000</td>\n",
       "    </tr>\n",
       "    <tr>\n",
       "      <th>max</th>\n",
       "      <td>77.000000</td>\n",
       "      <td>1.000000</td>\n",
       "      <td>3.000000</td>\n",
       "      <td>200.000000</td>\n",
       "      <td>564.000000</td>\n",
       "      <td>1.000000</td>\n",
       "      <td>2.000000</td>\n",
       "      <td>202.000000</td>\n",
       "      <td>1.000000</td>\n",
       "      <td>6.20000</td>\n",
       "      <td>2.000000</td>\n",
       "      <td>3.000000</td>\n",
       "      <td>3.000000</td>\n",
       "      <td>1.000000</td>\n",
       "    </tr>\n",
       "  </tbody>\n",
       "</table>\n",
       "</div>"
      ],
      "text/plain": [
       "              age         sex          cp    trestbps        chol         fbs  \\\n",
       "count  270.000000  270.000000  270.000000  270.000000  270.000000  270.000000   \n",
       "mean    54.433333    0.677778    2.174074  131.344444  249.659259    0.148148   \n",
       "std      9.109067    0.468195    0.950090   17.861608   51.686237    0.355906   \n",
       "min     29.000000    0.000000    0.000000   94.000000  126.000000    0.000000   \n",
       "25%     48.000000    0.000000    2.000000  120.000000  213.000000    0.000000   \n",
       "50%     55.000000    1.000000    2.000000  130.000000  245.000000    0.000000   \n",
       "75%     61.000000    1.000000    3.000000  140.000000  280.000000    0.000000   \n",
       "max     77.000000    1.000000    3.000000  200.000000  564.000000    1.000000   \n",
       "\n",
       "          restecg     thalach       exang    oldpeak       slope          ca  \\\n",
       "count  270.000000  270.000000  270.000000  270.00000  270.000000  270.000000   \n",
       "mean     1.022222  149.677778    0.329630    1.05000    0.585185    0.670370   \n",
       "std      0.997891   23.165717    0.470952    1.14521    0.614390    0.943896   \n",
       "min      0.000000   71.000000    0.000000    0.00000    0.000000    0.000000   \n",
       "25%      0.000000  133.000000    0.000000    0.00000    0.000000    0.000000   \n",
       "50%      2.000000  153.500000    0.000000    0.80000    1.000000    0.000000   \n",
       "75%      2.000000  166.000000    1.000000    1.60000    1.000000    1.000000   \n",
       "max      2.000000  202.000000    1.000000    6.20000    2.000000    3.000000   \n",
       "\n",
       "             thal      target  \n",
       "count  270.000000  270.000000  \n",
       "mean     1.822222    0.444444  \n",
       "std      0.959140    0.497827  \n",
       "min      1.000000    0.000000  \n",
       "25%      1.000000    0.000000  \n",
       "50%      1.000000    0.000000  \n",
       "75%      3.000000    1.000000  \n",
       "max      3.000000    1.000000  "
      ]
     },
     "execution_count": 68,
     "metadata": {},
     "output_type": "execute_result"
    }
   ],
   "source": [
    "df.describe()"
   ]
  },
  {
   "cell_type": "markdown",
   "id": "fa7bdcf7",
   "metadata": {
    "papermill": {
     "duration": 0.017186,
     "end_time": "2023-04-02T06:50:29.581605",
     "exception": false,
     "start_time": "2023-04-02T06:50:29.564419",
     "status": "completed"
    },
    "tags": []
   },
   "source": [
    "## Data cleaning , scaling and encoding"
   ]
  },
  {
   "cell_type": "code",
   "execution_count": 69,
   "id": "49aff54d",
   "metadata": {
    "papermill": {
     "duration": 0.029401,
     "end_time": "2023-04-02T06:50:29.628470",
     "exception": false,
     "start_time": "2023-04-02T06:50:29.599069",
     "status": "completed"
    },
    "tags": []
   },
   "outputs": [
    {
     "data": {
      "text/plain": [
       "Index(['age', 'sex', 'cp', 'trestbps', 'chol', 'fbs', 'restecg', 'thalach',\n",
       "       'exang', 'oldpeak', 'slope', 'ca', 'thal', 'target'],\n",
       "      dtype='object')"
      ]
     },
     "execution_count": 69,
     "metadata": {},
     "output_type": "execute_result"
    }
   ],
   "source": [
    "#data cleaning , scaling and encoding\n",
    "df.columns"
   ]
  },
  {
   "cell_type": "code",
   "execution_count": 70,
   "id": "8eb948bd",
   "metadata": {
    "papermill": {
     "duration": 0.028162,
     "end_time": "2023-04-02T06:50:29.674117",
     "exception": false,
     "start_time": "2023-04-02T06:50:29.645955",
     "status": "completed"
    },
    "tags": []
   },
   "outputs": [],
   "source": [
    "df.columns = ['age', 'sex', 'chest_pain_type', 'resting_blood_pressure', 'cholesterol', 'fasting_blood_sugar', 'rest_ecg', 'max_heart_rate_achieved',\n",
    "       'exercise_induced_angina', 'st_depression', 'st_slope','ca','thalassemia','target']"
   ]
  },
  {
   "cell_type": "code",
   "execution_count": 71,
   "id": "f0ab6482",
   "metadata": {
    "papermill": {
     "duration": 0.039128,
     "end_time": "2023-04-02T06:50:29.730722",
     "exception": false,
     "start_time": "2023-04-02T06:50:29.691594",
     "status": "completed"
    },
    "tags": []
   },
   "outputs": [
    {
     "data": {
      "text/html": [
       "<div>\n",
       "<style scoped>\n",
       "    .dataframe tbody tr th:only-of-type {\n",
       "        vertical-align: middle;\n",
       "    }\n",
       "\n",
       "    .dataframe tbody tr th {\n",
       "        vertical-align: top;\n",
       "    }\n",
       "\n",
       "    .dataframe thead th {\n",
       "        text-align: right;\n",
       "    }\n",
       "</style>\n",
       "<table border=\"1\" class=\"dataframe\">\n",
       "  <thead>\n",
       "    <tr style=\"text-align: right;\">\n",
       "      <th></th>\n",
       "      <th>age</th>\n",
       "      <th>sex</th>\n",
       "      <th>chest_pain_type</th>\n",
       "      <th>resting_blood_pressure</th>\n",
       "      <th>cholesterol</th>\n",
       "      <th>fasting_blood_sugar</th>\n",
       "      <th>rest_ecg</th>\n",
       "      <th>max_heart_rate_achieved</th>\n",
       "      <th>exercise_induced_angina</th>\n",
       "      <th>st_depression</th>\n",
       "      <th>st_slope</th>\n",
       "      <th>ca</th>\n",
       "      <th>thalassemia</th>\n",
       "      <th>target</th>\n",
       "    </tr>\n",
       "  </thead>\n",
       "  <tbody>\n",
       "    <tr>\n",
       "      <th>0</th>\n",
       "      <td>70</td>\n",
       "      <td>1</td>\n",
       "      <td>3</td>\n",
       "      <td>130</td>\n",
       "      <td>322</td>\n",
       "      <td>0</td>\n",
       "      <td>2</td>\n",
       "      <td>109</td>\n",
       "      <td>0</td>\n",
       "      <td>2.4</td>\n",
       "      <td>1</td>\n",
       "      <td>3</td>\n",
       "      <td>1</td>\n",
       "      <td>1</td>\n",
       "    </tr>\n",
       "    <tr>\n",
       "      <th>1</th>\n",
       "      <td>67</td>\n",
       "      <td>0</td>\n",
       "      <td>2</td>\n",
       "      <td>115</td>\n",
       "      <td>564</td>\n",
       "      <td>0</td>\n",
       "      <td>2</td>\n",
       "      <td>160</td>\n",
       "      <td>0</td>\n",
       "      <td>1.6</td>\n",
       "      <td>1</td>\n",
       "      <td>0</td>\n",
       "      <td>3</td>\n",
       "      <td>0</td>\n",
       "    </tr>\n",
       "    <tr>\n",
       "      <th>2</th>\n",
       "      <td>57</td>\n",
       "      <td>1</td>\n",
       "      <td>1</td>\n",
       "      <td>124</td>\n",
       "      <td>261</td>\n",
       "      <td>0</td>\n",
       "      <td>0</td>\n",
       "      <td>141</td>\n",
       "      <td>0</td>\n",
       "      <td>0.3</td>\n",
       "      <td>0</td>\n",
       "      <td>0</td>\n",
       "      <td>3</td>\n",
       "      <td>1</td>\n",
       "    </tr>\n",
       "    <tr>\n",
       "      <th>3</th>\n",
       "      <td>64</td>\n",
       "      <td>1</td>\n",
       "      <td>3</td>\n",
       "      <td>128</td>\n",
       "      <td>263</td>\n",
       "      <td>0</td>\n",
       "      <td>0</td>\n",
       "      <td>105</td>\n",
       "      <td>1</td>\n",
       "      <td>0.2</td>\n",
       "      <td>1</td>\n",
       "      <td>1</td>\n",
       "      <td>3</td>\n",
       "      <td>0</td>\n",
       "    </tr>\n",
       "    <tr>\n",
       "      <th>4</th>\n",
       "      <td>74</td>\n",
       "      <td>0</td>\n",
       "      <td>1</td>\n",
       "      <td>120</td>\n",
       "      <td>269</td>\n",
       "      <td>0</td>\n",
       "      <td>2</td>\n",
       "      <td>121</td>\n",
       "      <td>1</td>\n",
       "      <td>0.2</td>\n",
       "      <td>0</td>\n",
       "      <td>1</td>\n",
       "      <td>1</td>\n",
       "      <td>0</td>\n",
       "    </tr>\n",
       "  </tbody>\n",
       "</table>\n",
       "</div>"
      ],
      "text/plain": [
       "   age  sex  chest_pain_type  resting_blood_pressure  cholesterol  \\\n",
       "0   70    1                3                     130          322   \n",
       "1   67    0                2                     115          564   \n",
       "2   57    1                1                     124          261   \n",
       "3   64    1                3                     128          263   \n",
       "4   74    0                1                     120          269   \n",
       "\n",
       "   fasting_blood_sugar  rest_ecg  max_heart_rate_achieved  \\\n",
       "0                    0         2                      109   \n",
       "1                    0         2                      160   \n",
       "2                    0         0                      141   \n",
       "3                    0         0                      105   \n",
       "4                    0         2                      121   \n",
       "\n",
       "   exercise_induced_angina  st_depression  st_slope  ca  thalassemia  target  \n",
       "0                        0            2.4         1   3            1       1  \n",
       "1                        0            1.6         1   0            3       0  \n",
       "2                        0            0.3         0   0            3       1  \n",
       "3                        1            0.2         1   1            3       0  \n",
       "4                        1            0.2         0   1            1       0  "
      ]
     },
     "execution_count": 71,
     "metadata": {},
     "output_type": "execute_result"
    }
   ],
   "source": [
    "df.head()"
   ]
  },
  {
   "cell_type": "code",
   "execution_count": 72,
   "id": "7dd8cff3",
   "metadata": {
    "papermill": {
     "duration": 0.065302,
     "end_time": "2023-04-02T06:50:29.815392",
     "exception": false,
     "start_time": "2023-04-02T06:50:29.750090",
     "status": "completed"
    },
    "tags": []
   },
   "outputs": [],
   "source": [
    "# converting features to categorical features \n",
    "df['chest_pain_type'][df['chest_pain_type'] == 0] = 'typical angina '\n",
    "df['chest_pain_type'][df['chest_pain_type'] == 1] = 'atypical angina'\n",
    "df['chest_pain_type'][df['chest_pain_type'] == 2] = 'non-angina pain'\n",
    "df['chest_pain_type'][df['chest_pain_type'] == 3] = 'asymptomatic'\n",
    "\n",
    "df['rest_ecg'][df['rest_ecg'] == 0] = 'normal'\n",
    "df['rest_ecg'][df['rest_ecg'] == 1] = 'Abnormality in ST-T wave'\n",
    "df['rest_ecg'][df['rest_ecg'] == 2] = 'left ventricular hypertrophy'\n",
    "\n",
    "df['st_slope'][df['st_slope'] == 0] = 'upsloping'\n",
    "df['st_slope'][df['st_slope'] == 1] = 'flat'\n",
    "df['st_slope'][df['st_slope'] == 2] = 'downsloping'\n",
    "\n",
    "df['thalassemia'][df['thalassemia'] == 0] = 'null'\n",
    "df['thalassemia'][df['thalassemia'] == 1] = 'fixed defect'\n",
    "df['thalassemia'][df['thalassemia'] == 2] = 'normal blood flow'\n",
    "df['thalassemia'][df['thalassemia'] == 3] = 'reversible defect'\n",
    "\n",
    "df[\"sex\"] = df.sex.apply(lambda  x:'male' if x==1 else 'female')"
   ]
  },
  {
   "cell_type": "code",
   "execution_count": 73,
   "id": "7dfb392e",
   "metadata": {
    "papermill": {
     "duration": 0.031931,
     "end_time": "2023-04-02T06:50:29.865824",
     "exception": false,
     "start_time": "2023-04-02T06:50:29.833893",
     "status": "completed"
    },
    "tags": []
   },
   "outputs": [
    {
     "data": {
      "text/plain": [
       "asymptomatic       129\n",
       "non-angina pain     79\n",
       "atypical angina     42\n",
       "typical angina      20\n",
       "Name: chest_pain_type, dtype: int64"
      ]
     },
     "execution_count": 73,
     "metadata": {},
     "output_type": "execute_result"
    }
   ],
   "source": [
    "df['chest_pain_type'].value_counts()"
   ]
  },
  {
   "cell_type": "code",
   "execution_count": 74,
   "id": "549723cd",
   "metadata": {
    "papermill": {
     "duration": 0.032806,
     "end_time": "2023-04-02T06:50:29.916619",
     "exception": false,
     "start_time": "2023-04-02T06:50:29.883813",
     "status": "completed"
    },
    "tags": []
   },
   "outputs": [
    {
     "data": {
      "text/plain": [
       "left ventricular hypertrophy    137\n",
       "normal                          131\n",
       "Abnormality in ST-T wave          2\n",
       "Name: rest_ecg, dtype: int64"
      ]
     },
     "execution_count": 74,
     "metadata": {},
     "output_type": "execute_result"
    }
   ],
   "source": [
    "df['rest_ecg'].value_counts()"
   ]
  },
  {
   "cell_type": "code",
   "execution_count": 75,
   "id": "4672fef4",
   "metadata": {
    "papermill": {
     "duration": 0.032505,
     "end_time": "2023-04-02T06:50:29.967306",
     "exception": false,
     "start_time": "2023-04-02T06:50:29.934801",
     "status": "completed"
    },
    "tags": []
   },
   "outputs": [
    {
     "data": {
      "text/plain": [
       "upsloping      130\n",
       "flat           122\n",
       "downsloping     18\n",
       "Name: st_slope, dtype: int64"
      ]
     },
     "execution_count": 75,
     "metadata": {},
     "output_type": "execute_result"
    }
   ],
   "source": [
    "df['st_slope'].value_counts()"
   ]
  },
  {
   "cell_type": "code",
   "execution_count": 76,
   "id": "8639f709",
   "metadata": {
    "papermill": {
     "duration": 0.03499,
     "end_time": "2023-04-02T06:50:30.020987",
     "exception": false,
     "start_time": "2023-04-02T06:50:29.985997",
     "status": "completed"
    },
    "tags": []
   },
   "outputs": [
    {
     "data": {
      "text/plain": [
       "fixed defect         152\n",
       "reversible defect    104\n",
       "normal blood flow     14\n",
       "Name: thalassemia, dtype: int64"
      ]
     },
     "execution_count": 76,
     "metadata": {},
     "output_type": "execute_result"
    }
   ],
   "source": [
    "df['thalassemia'].value_counts()"
   ]
  },
  {
   "cell_type": "code",
   "execution_count": 77,
   "id": "a457969b",
   "metadata": {
    "papermill": {
     "duration": 0.041953,
     "end_time": "2023-04-02T06:50:30.081641",
     "exception": false,
     "start_time": "2023-04-02T06:50:30.039688",
     "status": "completed"
    },
    "tags": []
   },
   "outputs": [
    {
     "data": {
      "text/html": [
       "<div>\n",
       "<style scoped>\n",
       "    .dataframe tbody tr th:only-of-type {\n",
       "        vertical-align: middle;\n",
       "    }\n",
       "\n",
       "    .dataframe tbody tr th {\n",
       "        vertical-align: top;\n",
       "    }\n",
       "\n",
       "    .dataframe thead th {\n",
       "        text-align: right;\n",
       "    }\n",
       "</style>\n",
       "<table border=\"1\" class=\"dataframe\">\n",
       "  <thead>\n",
       "    <tr style=\"text-align: right;\">\n",
       "      <th></th>\n",
       "      <th>age</th>\n",
       "      <th>sex</th>\n",
       "      <th>chest_pain_type</th>\n",
       "      <th>resting_blood_pressure</th>\n",
       "      <th>cholesterol</th>\n",
       "      <th>fasting_blood_sugar</th>\n",
       "      <th>rest_ecg</th>\n",
       "      <th>max_heart_rate_achieved</th>\n",
       "      <th>exercise_induced_angina</th>\n",
       "      <th>st_depression</th>\n",
       "      <th>st_slope</th>\n",
       "      <th>ca</th>\n",
       "      <th>thalassemia</th>\n",
       "      <th>target</th>\n",
       "    </tr>\n",
       "  </thead>\n",
       "  <tbody>\n",
       "    <tr>\n",
       "      <th>0</th>\n",
       "      <td>70</td>\n",
       "      <td>male</td>\n",
       "      <td>asymptomatic</td>\n",
       "      <td>130</td>\n",
       "      <td>322</td>\n",
       "      <td>0</td>\n",
       "      <td>left ventricular hypertrophy</td>\n",
       "      <td>109</td>\n",
       "      <td>0</td>\n",
       "      <td>2.4</td>\n",
       "      <td>flat</td>\n",
       "      <td>3</td>\n",
       "      <td>fixed defect</td>\n",
       "      <td>1</td>\n",
       "    </tr>\n",
       "    <tr>\n",
       "      <th>1</th>\n",
       "      <td>67</td>\n",
       "      <td>female</td>\n",
       "      <td>non-angina pain</td>\n",
       "      <td>115</td>\n",
       "      <td>564</td>\n",
       "      <td>0</td>\n",
       "      <td>left ventricular hypertrophy</td>\n",
       "      <td>160</td>\n",
       "      <td>0</td>\n",
       "      <td>1.6</td>\n",
       "      <td>flat</td>\n",
       "      <td>0</td>\n",
       "      <td>reversible defect</td>\n",
       "      <td>0</td>\n",
       "    </tr>\n",
       "    <tr>\n",
       "      <th>2</th>\n",
       "      <td>57</td>\n",
       "      <td>male</td>\n",
       "      <td>atypical angina</td>\n",
       "      <td>124</td>\n",
       "      <td>261</td>\n",
       "      <td>0</td>\n",
       "      <td>normal</td>\n",
       "      <td>141</td>\n",
       "      <td>0</td>\n",
       "      <td>0.3</td>\n",
       "      <td>upsloping</td>\n",
       "      <td>0</td>\n",
       "      <td>reversible defect</td>\n",
       "      <td>1</td>\n",
       "    </tr>\n",
       "    <tr>\n",
       "      <th>3</th>\n",
       "      <td>64</td>\n",
       "      <td>male</td>\n",
       "      <td>asymptomatic</td>\n",
       "      <td>128</td>\n",
       "      <td>263</td>\n",
       "      <td>0</td>\n",
       "      <td>normal</td>\n",
       "      <td>105</td>\n",
       "      <td>1</td>\n",
       "      <td>0.2</td>\n",
       "      <td>flat</td>\n",
       "      <td>1</td>\n",
       "      <td>reversible defect</td>\n",
       "      <td>0</td>\n",
       "    </tr>\n",
       "    <tr>\n",
       "      <th>4</th>\n",
       "      <td>74</td>\n",
       "      <td>female</td>\n",
       "      <td>atypical angina</td>\n",
       "      <td>120</td>\n",
       "      <td>269</td>\n",
       "      <td>0</td>\n",
       "      <td>left ventricular hypertrophy</td>\n",
       "      <td>121</td>\n",
       "      <td>1</td>\n",
       "      <td>0.2</td>\n",
       "      <td>upsloping</td>\n",
       "      <td>1</td>\n",
       "      <td>fixed defect</td>\n",
       "      <td>0</td>\n",
       "    </tr>\n",
       "  </tbody>\n",
       "</table>\n",
       "</div>"
      ],
      "text/plain": [
       "   age     sex  chest_pain_type  resting_blood_pressure  cholesterol  \\\n",
       "0   70    male     asymptomatic                     130          322   \n",
       "1   67  female  non-angina pain                     115          564   \n",
       "2   57    male  atypical angina                     124          261   \n",
       "3   64    male     asymptomatic                     128          263   \n",
       "4   74  female  atypical angina                     120          269   \n",
       "\n",
       "   fasting_blood_sugar                      rest_ecg  max_heart_rate_achieved  \\\n",
       "0                    0  left ventricular hypertrophy                      109   \n",
       "1                    0  left ventricular hypertrophy                      160   \n",
       "2                    0                        normal                      141   \n",
       "3                    0                        normal                      105   \n",
       "4                    0  left ventricular hypertrophy                      121   \n",
       "\n",
       "   exercise_induced_angina  st_depression   st_slope  ca        thalassemia  \\\n",
       "0                        0            2.4       flat   3       fixed defect   \n",
       "1                        0            1.6       flat   0  reversible defect   \n",
       "2                        0            0.3  upsloping   0  reversible defect   \n",
       "3                        1            0.2       flat   1  reversible defect   \n",
       "4                        1            0.2  upsloping   1       fixed defect   \n",
       "\n",
       "   target  \n",
       "0       1  \n",
       "1       0  \n",
       "2       1  \n",
       "3       0  \n",
       "4       0  "
      ]
     },
     "execution_count": 77,
     "metadata": {},
     "output_type": "execute_result"
    }
   ],
   "source": [
    "# checking the  dataset after  encoding\n",
    "df.head()"
   ]
  },
  {
   "cell_type": "code",
   "execution_count": 78,
   "id": "003640a9",
   "metadata": {
    "papermill": {
     "duration": 0.03541,
     "end_time": "2023-04-02T06:50:30.136471",
     "exception": false,
     "start_time": "2023-04-02T06:50:30.101061",
     "status": "completed"
    },
    "tags": []
   },
   "outputs": [
    {
     "data": {
      "text/plain": [
       "age                        0\n",
       "sex                        0\n",
       "chest_pain_type            0\n",
       "resting_blood_pressure     0\n",
       "cholesterol                0\n",
       "fasting_blood_sugar        0\n",
       "rest_ecg                   0\n",
       "max_heart_rate_achieved    0\n",
       "exercise_induced_angina    0\n",
       "st_depression              0\n",
       "st_slope                   0\n",
       "ca                         0\n",
       "thalassemia                0\n",
       "target                     0\n",
       "dtype: int64"
      ]
     },
     "execution_count": 78,
     "metadata": {},
     "output_type": "execute_result"
    }
   ],
   "source": [
    "# Checking missing entries in the dataset columnwise\n",
    "df.isna().sum()"
   ]
  },
  {
   "cell_type": "code",
   "execution_count": 79,
   "id": "8dbb323b",
   "metadata": {
    "papermill": {
     "duration": 0.030496,
     "end_time": "2023-04-02T06:50:30.185760",
     "exception": false,
     "start_time": "2023-04-02T06:50:30.155264",
     "status": "completed"
    },
    "tags": []
   },
   "outputs": [
    {
     "data": {
      "text/plain": [
       "(270, 14)"
      ]
     },
     "execution_count": 79,
     "metadata": {},
     "output_type": "execute_result"
    }
   ],
   "source": [
    "# checking the shape of the dataset\n",
    "df.shape"
   ]
  },
  {
   "cell_type": "code",
   "execution_count": 80,
   "id": "cdc25b04",
   "metadata": {
    "papermill": {
     "duration": 0.040823,
     "end_time": "2023-04-02T06:50:30.245427",
     "exception": false,
     "start_time": "2023-04-02T06:50:30.204604",
     "status": "completed"
    },
    "tags": []
   },
   "outputs": [
    {
     "name": "stdout",
     "output_type": "stream",
     "text": [
      "<class 'pandas.core.frame.DataFrame'>\n",
      "RangeIndex: 270 entries, 0 to 269\n",
      "Data columns (total 14 columns):\n",
      " #   Column                   Non-Null Count  Dtype  \n",
      "---  ------                   --------------  -----  \n",
      " 0   age                      270 non-null    int64  \n",
      " 1   sex                      270 non-null    object \n",
      " 2   chest_pain_type          270 non-null    object \n",
      " 3   resting_blood_pressure   270 non-null    int64  \n",
      " 4   cholesterol              270 non-null    int64  \n",
      " 5   fasting_blood_sugar      270 non-null    int64  \n",
      " 6   rest_ecg                 270 non-null    object \n",
      " 7   max_heart_rate_achieved  270 non-null    int64  \n",
      " 8   exercise_induced_angina  270 non-null    int64  \n",
      " 9   st_depression            270 non-null    float64\n",
      " 10  st_slope                 270 non-null    object \n",
      " 11  ca                       270 non-null    int64  \n",
      " 12  thalassemia              270 non-null    object \n",
      " 13  target                   270 non-null    int64  \n",
      "dtypes: float64(1), int64(8), object(5)\n",
      "memory usage: 29.7+ KB\n"
     ]
    }
   ],
   "source": [
    "df.info()"
   ]
  },
  {
   "cell_type": "code",
   "execution_count": 81,
   "id": "aac32cc3",
   "metadata": {
    "papermill": {
     "duration": 0.065036,
     "end_time": "2023-04-02T06:50:30.329391",
     "exception": false,
     "start_time": "2023-04-02T06:50:30.264355",
     "status": "completed"
    },
    "tags": []
   },
   "outputs": [
    {
     "data": {
      "text/html": [
       "<div>\n",
       "<style scoped>\n",
       "    .dataframe tbody tr th:only-of-type {\n",
       "        vertical-align: middle;\n",
       "    }\n",
       "\n",
       "    .dataframe tbody tr th {\n",
       "        vertical-align: top;\n",
       "    }\n",
       "\n",
       "    .dataframe thead th {\n",
       "        text-align: right;\n",
       "    }\n",
       "</style>\n",
       "<table border=\"1\" class=\"dataframe\">\n",
       "  <thead>\n",
       "    <tr style=\"text-align: right;\">\n",
       "      <th></th>\n",
       "      <th>age</th>\n",
       "      <th>resting_blood_pressure</th>\n",
       "      <th>cholesterol</th>\n",
       "      <th>fasting_blood_sugar</th>\n",
       "      <th>max_heart_rate_achieved</th>\n",
       "      <th>exercise_induced_angina</th>\n",
       "      <th>st_depression</th>\n",
       "      <th>ca</th>\n",
       "      <th>target</th>\n",
       "    </tr>\n",
       "  </thead>\n",
       "  <tbody>\n",
       "    <tr>\n",
       "      <th>count</th>\n",
       "      <td>270.000000</td>\n",
       "      <td>270.000000</td>\n",
       "      <td>270.000000</td>\n",
       "      <td>270.000000</td>\n",
       "      <td>270.000000</td>\n",
       "      <td>270.000000</td>\n",
       "      <td>270.00000</td>\n",
       "      <td>270.000000</td>\n",
       "      <td>270.000000</td>\n",
       "    </tr>\n",
       "    <tr>\n",
       "      <th>mean</th>\n",
       "      <td>54.433333</td>\n",
       "      <td>131.344444</td>\n",
       "      <td>249.659259</td>\n",
       "      <td>0.148148</td>\n",
       "      <td>149.677778</td>\n",
       "      <td>0.329630</td>\n",
       "      <td>1.05000</td>\n",
       "      <td>0.670370</td>\n",
       "      <td>0.444444</td>\n",
       "    </tr>\n",
       "    <tr>\n",
       "      <th>std</th>\n",
       "      <td>9.109067</td>\n",
       "      <td>17.861608</td>\n",
       "      <td>51.686237</td>\n",
       "      <td>0.355906</td>\n",
       "      <td>23.165717</td>\n",
       "      <td>0.470952</td>\n",
       "      <td>1.14521</td>\n",
       "      <td>0.943896</td>\n",
       "      <td>0.497827</td>\n",
       "    </tr>\n",
       "    <tr>\n",
       "      <th>min</th>\n",
       "      <td>29.000000</td>\n",
       "      <td>94.000000</td>\n",
       "      <td>126.000000</td>\n",
       "      <td>0.000000</td>\n",
       "      <td>71.000000</td>\n",
       "      <td>0.000000</td>\n",
       "      <td>0.00000</td>\n",
       "      <td>0.000000</td>\n",
       "      <td>0.000000</td>\n",
       "    </tr>\n",
       "    <tr>\n",
       "      <th>25%</th>\n",
       "      <td>48.000000</td>\n",
       "      <td>120.000000</td>\n",
       "      <td>213.000000</td>\n",
       "      <td>0.000000</td>\n",
       "      <td>133.000000</td>\n",
       "      <td>0.000000</td>\n",
       "      <td>0.00000</td>\n",
       "      <td>0.000000</td>\n",
       "      <td>0.000000</td>\n",
       "    </tr>\n",
       "    <tr>\n",
       "      <th>50%</th>\n",
       "      <td>55.000000</td>\n",
       "      <td>130.000000</td>\n",
       "      <td>245.000000</td>\n",
       "      <td>0.000000</td>\n",
       "      <td>153.500000</td>\n",
       "      <td>0.000000</td>\n",
       "      <td>0.80000</td>\n",
       "      <td>0.000000</td>\n",
       "      <td>0.000000</td>\n",
       "    </tr>\n",
       "    <tr>\n",
       "      <th>75%</th>\n",
       "      <td>61.000000</td>\n",
       "      <td>140.000000</td>\n",
       "      <td>280.000000</td>\n",
       "      <td>0.000000</td>\n",
       "      <td>166.000000</td>\n",
       "      <td>1.000000</td>\n",
       "      <td>1.60000</td>\n",
       "      <td>1.000000</td>\n",
       "      <td>1.000000</td>\n",
       "    </tr>\n",
       "    <tr>\n",
       "      <th>max</th>\n",
       "      <td>77.000000</td>\n",
       "      <td>200.000000</td>\n",
       "      <td>564.000000</td>\n",
       "      <td>1.000000</td>\n",
       "      <td>202.000000</td>\n",
       "      <td>1.000000</td>\n",
       "      <td>6.20000</td>\n",
       "      <td>3.000000</td>\n",
       "      <td>1.000000</td>\n",
       "    </tr>\n",
       "  </tbody>\n",
       "</table>\n",
       "</div>"
      ],
      "text/plain": [
       "              age  resting_blood_pressure  cholesterol  fasting_blood_sugar  \\\n",
       "count  270.000000              270.000000   270.000000           270.000000   \n",
       "mean    54.433333              131.344444   249.659259             0.148148   \n",
       "std      9.109067               17.861608    51.686237             0.355906   \n",
       "min     29.000000               94.000000   126.000000             0.000000   \n",
       "25%     48.000000              120.000000   213.000000             0.000000   \n",
       "50%     55.000000              130.000000   245.000000             0.000000   \n",
       "75%     61.000000              140.000000   280.000000             0.000000   \n",
       "max     77.000000              200.000000   564.000000             1.000000   \n",
       "\n",
       "       max_heart_rate_achieved  exercise_induced_angina  st_depression  \\\n",
       "count               270.000000               270.000000      270.00000   \n",
       "mean                149.677778                 0.329630        1.05000   \n",
       "std                  23.165717                 0.470952        1.14521   \n",
       "min                  71.000000                 0.000000        0.00000   \n",
       "25%                 133.000000                 0.000000        0.00000   \n",
       "50%                 153.500000                 0.000000        0.80000   \n",
       "75%                 166.000000                 1.000000        1.60000   \n",
       "max                 202.000000                 1.000000        6.20000   \n",
       "\n",
       "               ca      target  \n",
       "count  270.000000  270.000000  \n",
       "mean     0.670370    0.444444  \n",
       "std      0.943896    0.497827  \n",
       "min      0.000000    0.000000  \n",
       "25%      0.000000    0.000000  \n",
       "50%      0.000000    0.000000  \n",
       "75%      1.000000    1.000000  \n",
       "max      3.000000    1.000000  "
      ]
     },
     "execution_count": 81,
     "metadata": {},
     "output_type": "execute_result"
    }
   ],
   "source": [
    "df.describe(include =[np.number])"
   ]
  },
  {
   "cell_type": "markdown",
   "id": "ad29c9a6",
   "metadata": {
    "papermill": {
     "duration": 0.018996,
     "end_time": "2023-04-02T06:50:30.368142",
     "exception": false,
     "start_time": "2023-04-02T06:50:30.349146",
     "status": "completed"
    },
    "tags": []
   },
   "source": [
    " * As we can see from above description resting_blood_pressure and cholestrol have some outliers as they have minimum value of 0 whereas on upper side cholestrol has outlier  also having maximum value of 564."
   ]
  },
  {
   "cell_type": "code",
   "execution_count": 82,
   "id": "ccf26dc5",
   "metadata": {
    "papermill": {
     "duration": 0.047402,
     "end_time": "2023-04-02T06:50:30.434629",
     "exception": false,
     "start_time": "2023-04-02T06:50:30.387227",
     "status": "completed"
    },
    "tags": []
   },
   "outputs": [
    {
     "data": {
      "text/html": [
       "<div>\n",
       "<style scoped>\n",
       "    .dataframe tbody tr th:only-of-type {\n",
       "        vertical-align: middle;\n",
       "    }\n",
       "\n",
       "    .dataframe tbody tr th {\n",
       "        vertical-align: top;\n",
       "    }\n",
       "\n",
       "    .dataframe thead th {\n",
       "        text-align: right;\n",
       "    }\n",
       "</style>\n",
       "<table border=\"1\" class=\"dataframe\">\n",
       "  <thead>\n",
       "    <tr style=\"text-align: right;\">\n",
       "      <th></th>\n",
       "      <th>sex</th>\n",
       "      <th>chest_pain_type</th>\n",
       "      <th>rest_ecg</th>\n",
       "      <th>st_slope</th>\n",
       "      <th>thalassemia</th>\n",
       "    </tr>\n",
       "  </thead>\n",
       "  <tbody>\n",
       "    <tr>\n",
       "      <th>count</th>\n",
       "      <td>270</td>\n",
       "      <td>270</td>\n",
       "      <td>270</td>\n",
       "      <td>270</td>\n",
       "      <td>270</td>\n",
       "    </tr>\n",
       "    <tr>\n",
       "      <th>unique</th>\n",
       "      <td>2</td>\n",
       "      <td>4</td>\n",
       "      <td>3</td>\n",
       "      <td>3</td>\n",
       "      <td>3</td>\n",
       "    </tr>\n",
       "    <tr>\n",
       "      <th>top</th>\n",
       "      <td>male</td>\n",
       "      <td>asymptomatic</td>\n",
       "      <td>left ventricular hypertrophy</td>\n",
       "      <td>upsloping</td>\n",
       "      <td>fixed defect</td>\n",
       "    </tr>\n",
       "    <tr>\n",
       "      <th>freq</th>\n",
       "      <td>183</td>\n",
       "      <td>129</td>\n",
       "      <td>137</td>\n",
       "      <td>130</td>\n",
       "      <td>152</td>\n",
       "    </tr>\n",
       "  </tbody>\n",
       "</table>\n",
       "</div>"
      ],
      "text/plain": [
       "         sex chest_pain_type                      rest_ecg   st_slope  \\\n",
       "count    270             270                           270        270   \n",
       "unique     2               4                             3          3   \n",
       "top     male    asymptomatic  left ventricular hypertrophy  upsloping   \n",
       "freq     183             129                           137        130   \n",
       "\n",
       "         thalassemia  \n",
       "count            270  \n",
       "unique             3  \n",
       "top     fixed defect  \n",
       "freq             152  "
      ]
     },
     "execution_count": 82,
     "metadata": {},
     "output_type": "execute_result"
    }
   ],
   "source": [
    "df.describe(include =[np.object])"
   ]
  },
  {
   "cell_type": "markdown",
   "id": "b2fcc9f8",
   "metadata": {
    "papermill": {
     "duration": 0.019191,
     "end_time": "2023-04-02T06:50:30.473995",
     "exception": false,
     "start_time": "2023-04-02T06:50:30.454804",
     "status": "completed"
    },
    "tags": []
   },
   "source": [
    "## Distribution of Heart disease on the basis of target "
   ]
  },
  {
   "cell_type": "code",
   "execution_count": 83,
   "id": "62757f79",
   "metadata": {
    "papermill": {
     "duration": 0.421433,
     "end_time": "2023-04-02T06:50:30.914678",
     "exception": false,
     "start_time": "2023-04-02T06:50:30.493245",
     "status": "completed"
    },
    "tags": []
   },
   "outputs": [
    {
     "data": {
      "image/png": "[encoded data removed]",
      "text/plain": [
       "<Figure size 720x360 with 2 Axes>"
      ]
     },
     "metadata": {},
     "output_type": "display_data"
    }
   ],
   "source": [
    "fig, (ax1, ax2) = plt.subplots(nrows=1, ncols=2, sharey=False, figsize=(10,5),facecolor=(.94, .94, .94))\n",
    "\n",
    "\n",
    "ax1 = df['target'].value_counts().plot.pie( x =\"Heart disease\" ,y ='no.of patients', \n",
    "                   autopct = \"%1.0f%%\",labels=[\"Normal\",\"Heart Disease\"], startangle = 60,ax=ax1,colors = sns.color_palette(\"crest\"));\n",
    "ax1.set(title = 'Percentage of Heart disease patients in Dataset')\n",
    "\n",
    "ax2 = df[\"target\"].value_counts().plot(kind=\"barh\",ax =ax2)\n",
    "for x,y in enumerate(df[\"target\"].value_counts().values):\n",
    "    ax2.text(.5,x,y,fontsize=12)\n",
    "ax2.set(title = 'No. of Heart disease patients in Dataset')\n",
    "plt.show()\n",
    "\n",
    "\n"
   ]
  },
  {
   "cell_type": "markdown",
   "id": "a88e4704",
   "metadata": {
    "papermill": {
     "duration": 0.020309,
     "end_time": "2023-04-02T06:50:30.955885",
     "exception": false,
     "start_time": "2023-04-02T06:50:30.935576",
     "status": "completed"
    },
    "tags": []
   },
   "source": [
    "##  Gender and Agewise Distribution"
   ]
  },
  {
   "cell_type": "code",
   "execution_count": 84,
   "id": "c28d5757",
   "metadata": {
    "papermill": {
     "duration": 0.447375,
     "end_time": "2023-04-02T06:50:31.423654",
     "exception": false,
     "start_time": "2023-04-02T06:50:30.976279",
     "status": "completed"
    },
    "tags": []
   },
   "outputs": [
    {
     "data": {
      "image/png": "[encoded data removed]",
      "text/plain": [
       "<Figure size 1152x720 with 2 Axes>"
      ]
     },
     "metadata": {
      "needs_background": "light"
     },
     "output_type": "display_data"
    }
   ],
   "source": [
    "plt.figure(figsize=(16,10))\n",
    "plt.subplot(221)\n",
    "df[\"sex\"].value_counts().plot.pie(autopct = \"%1.0f%%\",colors = sns.color_palette(\"crest\",5), startangle = 60,labels=[\"Male\",\"Female\"],\n",
    "wedgeprops={\"linewidth\":2,\"edgecolor\":\"k\"},explode=[.1,.1],shadow =False)\n",
    "plt.title(\"Distribution of Gender\")\n",
    "plt.subplot(222)\n",
    "ax= sns.distplot(df['age'], rug=True)\n",
    "plt.title(\"Age wise distribution\")\n",
    "plt.show()"
   ]
  },
  {
   "cell_type": "markdown",
   "id": "c130156b",
   "metadata": {
    "papermill": {
     "duration": 0.021152,
     "end_time": "2023-04-02T06:50:31.466762",
     "exception": false,
     "start_time": "2023-04-02T06:50:31.445610",
     "status": "completed"
    },
    "tags": []
   },
   "source": [
    "As we can see from above plot, in this dataset males percentage is way too higher than females where as average age of patients is around 60."
   ]
  },
  {
   "cell_type": "code",
   "execution_count": 85,
   "id": "cb1a0c6b",
   "metadata": {
    "papermill": {
     "duration": 0.81155,
     "end_time": "2023-04-02T06:50:32.299801",
     "exception": false,
     "start_time": "2023-04-02T06:50:31.488251",
     "status": "completed"
    },
    "tags": []
   },
   "outputs": [
    {
     "data": {
      "image/png": "[encoded data removed]",
      "text/plain": [
       "<Figure size 1080x360 with 2 Axes>"
      ]
     },
     "metadata": {
      "needs_background": "light"
     },
     "output_type": "display_data"
    },
    {
     "data": {
      "image/png": "[encoded data removed]",
      "text/plain": [
       "<Figure size 1080x360 with 2 Axes>"
      ]
     },
     "metadata": {
      "needs_background": "light"
     },
     "output_type": "display_data"
    }
   ],
   "source": [
    "df_1=df[df['target']==1]\n",
    "\n",
    "df_0=df[df['target']==0]\n",
    "\n",
    "# plotting normal patients\n",
    "fig = plt.figure(figsize=(15,5))\n",
    "ax1 = plt.subplot2grid((1,2),(0,0))\n",
    "sns.distplot(df_0['age'])\n",
    "plt.title('AGE DISTRIBUTION OF NORMAL PATIENTS', fontsize=15, weight='bold')\n",
    "\n",
    "ax1 = plt.subplot2grid((1,2),(0,1))\n",
    "sns.countplot(x =df_0['sex'], palette='viridis')\n",
    "plt.title('GENDER DISTRIBUTION OF NORMAL PATIENTS', fontsize=15, weight='bold' )\n",
    "plt.show()\n",
    "\n",
    "#plotting heart patients\n",
    "\n",
    "fig = plt.figure(figsize=(15,5))\n",
    "ax1 = plt.subplot2grid((1,2),(0,0))\n",
    "sns.distplot(df_1['age'])\n",
    "plt.title('AGE DISTRIBUTION OF HEART DISEASE PATIENTS', fontsize=15, weight='bold')\n",
    "\n",
    "ax1 = plt.subplot2grid((1,2),(0,1))\n",
    "sns.countplot(x=df_1['sex'], palette='viridis')\n",
    "plt.title('GENDER DISTRIBUTION OF HEART DISEASE PATIENTS', fontsize=15, weight='bold' )\n",
    "plt.show()"
   ]
  },
  {
   "cell_type": "markdown",
   "id": "ed7cee47",
   "metadata": {
    "papermill": {
     "duration": 0.022843,
     "end_time": "2023-04-02T06:50:32.346391",
     "exception": false,
     "start_time": "2023-04-02T06:50:32.323548",
     "status": "completed"
    },
    "tags": []
   },
   "source": [
    "## Distribution of Chest Pain Type"
   ]
  },
  {
   "cell_type": "code",
   "execution_count": 86,
   "id": "60832b15",
   "metadata": {
    "papermill": {
     "duration": 0.373399,
     "end_time": "2023-04-02T06:50:32.743253",
     "exception": false,
     "start_time": "2023-04-02T06:50:32.369854",
     "status": "completed"
    },
    "tags": []
   },
   "outputs": [
    {
     "data": {
      "image/png": "[encoded data removed]",
      "text/plain": [
       "<Figure size 1080x360 with 2 Axes>"
      ]
     },
     "metadata": {
      "needs_background": "light"
     },
     "output_type": "display_data"
    }
   ],
   "source": [
    "# plotting normal patients\n",
    "fig = plt.figure(figsize=(15,5))\n",
    "ax1 = plt.subplot2grid((1,2),(0,0))\n",
    "sns.countplot(x =df_0['chest_pain_type'],palette = 'ch:start=4.2,rot=-3.3')\n",
    "plt.title('CHEST PAIN OF NORMAL PATIENTS', fontsize=15, weight='bold')\n",
    "\n",
    "#plotting heart patients\n",
    "ax1 = plt.subplot2grid((1,2),(0,1))\n",
    "sns.countplot(x =df_1['chest_pain_type'], palette='icefire')\n",
    "plt.title('CHEST PAIN OF HEART PATIENTS', fontsize=15, weight='bold' )\n",
    "plt.show()"
   ]
  },
  {
   "cell_type": "code",
   "execution_count": 87,
   "id": "af90b84c",
   "metadata": {
    "papermill": {
     "duration": 0.142732,
     "end_time": "2023-04-02T06:50:32.911035",
     "exception": false,
     "start_time": "2023-04-02T06:50:32.768303",
     "status": "completed"
    },
    "tags": []
   },
   "outputs": [
    {
     "data": {
      "text/html": [
       "<style type=\"text/css\">\n",
       "#T_5bc63_row0_col0 {\n",
       "  background-color: #78bb78;\n",
       "  color: #f1f1f1;\n",
       "}\n",
       "#T_5bc63_row0_col1, #T_5bc63_row2_col0 {\n",
       "  background-color: #008000;\n",
       "  color: #f1f1f1;\n",
       "}\n",
       "#T_5bc63_row1_col0 {\n",
       "  background-color: #87c287;\n",
       "  color: #000000;\n",
       "}\n",
       "#T_5bc63_row1_col1 {\n",
       "  background-color: #e6f1e6;\n",
       "  color: #000000;\n",
       "}\n",
       "#T_5bc63_row2_col1 {\n",
       "  background-color: #cae3ca;\n",
       "  color: #000000;\n",
       "}\n",
       "#T_5bc63_row3_col0, #T_5bc63_row3_col1 {\n",
       "  background-color: #ebf3eb;\n",
       "  color: #000000;\n",
       "}\n",
       "</style>\n",
       "<table id=\"T_5bc63_\">\n",
       "  <thead>\n",
       "    <tr>\n",
       "      <th class=\"index_name level0\" >target</th>\n",
       "      <th class=\"col_heading level0 col0\" >0</th>\n",
       "      <th class=\"col_heading level0 col1\" >1</th>\n",
       "    </tr>\n",
       "    <tr>\n",
       "      <th class=\"index_name level0\" >chest_pain_type</th>\n",
       "      <th class=\"blank col0\" >&nbsp;</th>\n",
       "      <th class=\"blank col1\" >&nbsp;</th>\n",
       "    </tr>\n",
       "  </thead>\n",
       "  <tbody>\n",
       "    <tr>\n",
       "      <th id=\"T_5bc63_level0_row0\" class=\"row_heading level0 row0\" >asymptomatic</th>\n",
       "      <td id=\"T_5bc63_row0_col0\" class=\"data row0 col0\" >25.330000</td>\n",
       "      <td id=\"T_5bc63_row0_col1\" class=\"data row0 col1\" >75.830000</td>\n",
       "    </tr>\n",
       "    <tr>\n",
       "      <th id=\"T_5bc63_level0_row1\" class=\"row_heading level0 row1\" >atypical angina</th>\n",
       "      <td id=\"T_5bc63_row1_col0\" class=\"data row1 col0\" >23.330000</td>\n",
       "      <td id=\"T_5bc63_row1_col1\" class=\"data row1 col1\" >5.830000</td>\n",
       "    </tr>\n",
       "    <tr>\n",
       "      <th id=\"T_5bc63_level0_row2\" class=\"row_heading level0 row2\" >non-angina pain</th>\n",
       "      <td id=\"T_5bc63_row2_col0\" class=\"data row2 col0\" >41.330000</td>\n",
       "      <td id=\"T_5bc63_row2_col1\" class=\"data row2 col1\" >14.170000</td>\n",
       "    </tr>\n",
       "    <tr>\n",
       "      <th id=\"T_5bc63_level0_row3\" class=\"row_heading level0 row3\" >typical angina </th>\n",
       "      <td id=\"T_5bc63_row3_col0\" class=\"data row3 col0\" >10.000000</td>\n",
       "      <td id=\"T_5bc63_row3_col1\" class=\"data row3 col1\" >4.170000</td>\n",
       "    </tr>\n",
       "  </tbody>\n",
       "</table>\n"
      ],
      "text/plain": [
       "<pandas.io.formats.style.Styler at 0x1f6ac124d90>"
      ]
     },
     "execution_count": 87,
     "metadata": {},
     "output_type": "execute_result"
    }
   ],
   "source": [
    "plot_criteria= ['chest_pain_type', 'target']\n",
    "cm = sns.light_palette(\"green\", as_cmap=True)\n",
    "(round(pd.crosstab(df[plot_criteria[0]], df[plot_criteria[1]], normalize='columns') * 100,2)).style.background_gradient(cmap = cm)"
   ]
  },
  {
   "cell_type": "markdown",
   "id": "3c1fc2ab",
   "metadata": {
    "papermill": {
     "duration": 0.023795,
     "end_time": "2023-04-02T06:50:32.959427",
     "exception": false,
     "start_time": "2023-04-02T06:50:32.935632",
     "status": "completed"
    },
    "tags": []
   },
   "source": [
    "As we can see from above plot 41% of the chest pain type of the heart disease patients have non-aginal chest pain"
   ]
  },
  {
   "cell_type": "markdown",
   "id": "16fc5a51",
   "metadata": {
    "papermill": {
     "duration": 0.023791,
     "end_time": "2023-04-02T06:50:33.007235",
     "exception": false,
     "start_time": "2023-04-02T06:50:32.983444",
     "status": "completed"
    },
    "tags": []
   },
   "source": [
    "## Distribution of Rest ECG"
   ]
  },
  {
   "cell_type": "code",
   "execution_count": 88,
   "id": "8f5355d9",
   "metadata": {
    "papermill": {
     "duration": 0.537567,
     "end_time": "2023-04-02T06:50:33.568821",
     "exception": false,
     "start_time": "2023-04-02T06:50:33.031254",
     "status": "completed"
    },
    "tags": []
   },
   "outputs": [
    {
     "data": {
      "image/png": "[encoded data removed]",
      "text/plain": [
       "<Figure size 1080x360 with 2 Axes>"
      ]
     },
     "metadata": {
      "needs_background": "light"
     },
     "output_type": "display_data"
    }
   ],
   "source": [
    "# plotting normal patients\n",
    "fig = plt.figure(figsize=(15,5))\n",
    "ax1 = plt.subplot2grid((1,2),(0,0))\n",
    "sns.countplot(x =df_0['rest_ecg'], palette ='ch:start=.2,rot=-.3')\n",
    "plt.title('REST ECG OF NORMAL PATIENTS', fontsize=15, weight='bold')\n",
    "\n",
    "#plotting heart patients\n",
    "ax1 = plt.subplot2grid((1,2),(0,1))\n",
    "sns.countplot(x =df_1['rest_ecg'], palette='cubehelix')\n",
    "plt.title('REST ECG OF HEART PATIENTS', fontsize=15, weight='bold' )\n",
    "plt.show()"
   ]
  },
  {
   "cell_type": "code",
   "execution_count": 89,
   "id": "5799af89",
   "metadata": {
    "papermill": {
     "duration": 0.059269,
     "end_time": "2023-04-02T06:50:33.652516",
     "exception": false,
     "start_time": "2023-04-02T06:50:33.593247",
     "status": "completed"
    },
    "tags": []
   },
   "outputs": [
    {
     "data": {
      "text/html": [
       "<style type=\"text/css\">\n",
       "#T_5c39f_row0_col0, #T_5c39f_row0_col1 {\n",
       "  background-color: #f1f1f1;\n",
       "  color: #000000;\n",
       "}\n",
       "#T_5c39f_row1_col0 {\n",
       "  background-color: #fbfbfb;\n",
       "  color: #000000;\n",
       "}\n",
       "#T_5c39f_row1_col1, #T_5c39f_row2_col0 {\n",
       "  background-color: #ffffff;\n",
       "  color: #000000;\n",
       "}\n",
       "#T_5c39f_row2_col1 {\n",
       "  background-color: #fafafa;\n",
       "  color: #000000;\n",
       "}\n",
       "</style>\n",
       "<table id=\"T_5c39f_\">\n",
       "  <thead>\n",
       "    <tr>\n",
       "      <th class=\"index_name level0\" >target</th>\n",
       "      <th class=\"col_heading level0 col0\" >0</th>\n",
       "      <th class=\"col_heading level0 col1\" >1</th>\n",
       "    </tr>\n",
       "    <tr>\n",
       "      <th class=\"index_name level0\" >rest_ecg</th>\n",
       "      <th class=\"blank col0\" >&nbsp;</th>\n",
       "      <th class=\"blank col1\" >&nbsp;</th>\n",
       "    </tr>\n",
       "  </thead>\n",
       "  <tbody>\n",
       "    <tr>\n",
       "      <th id=\"T_5c39f_level0_row0\" class=\"row_heading level0 row0\" >Abnormality in ST-T wave</th>\n",
       "      <td id=\"T_5c39f_row0_col0\" class=\"data row0 col0\" >0.670000</td>\n",
       "      <td id=\"T_5c39f_row0_col1\" class=\"data row0 col1\" >0.830000</td>\n",
       "    </tr>\n",
       "    <tr>\n",
       "      <th id=\"T_5c39f_level0_row1\" class=\"row_heading level0 row1\" >left ventricular hypertrophy</th>\n",
       "      <td id=\"T_5c39f_row1_col0\" class=\"data row1 col0\" >42.670000</td>\n",
       "      <td id=\"T_5c39f_row1_col1\" class=\"data row1 col1\" >60.830000</td>\n",
       "    </tr>\n",
       "    <tr>\n",
       "      <th id=\"T_5c39f_level0_row2\" class=\"row_heading level0 row2\" >normal</th>\n",
       "      <td id=\"T_5c39f_row2_col0\" class=\"data row2 col0\" >56.670000</td>\n",
       "      <td id=\"T_5c39f_row2_col1\" class=\"data row2 col1\" >38.330000</td>\n",
       "    </tr>\n",
       "  </tbody>\n",
       "</table>\n"
      ],
      "text/plain": [
       "<pandas.io.formats.style.Styler at 0x1f6ac1430d0>"
      ]
     },
     "execution_count": 89,
     "metadata": {},
     "output_type": "execute_result"
    }
   ],
   "source": [
    "#Exploring the Heart Disease patients based on REST ECG\n",
    "plot_criteria= ['rest_ecg', 'target']\n",
    "cm = sns.light_palette(\"white\", as_cmap=True)\n",
    "(round(pd.crosstab(df[plot_criteria[0]], df[plot_criteria[1]], normalize='columns') * 100,2)).style.background_gradient(cmap = cm)"
   ]
  },
  {
   "cell_type": "code",
   "execution_count": 90,
   "id": "b4cdce83",
   "metadata": {
    "papermill": {
     "duration": 0.362638,
     "end_time": "2023-04-02T06:50:34.040292",
     "exception": false,
     "start_time": "2023-04-02T06:50:33.677654",
     "status": "completed"
    },
    "tags": []
   },
   "outputs": [
    {
     "data": {
      "image/png": "[encoded data removed]",
      "text/plain": [
       "<Figure size 1080x360 with 2 Axes>"
      ]
     },
     "metadata": {
      "needs_background": "light"
     },
     "output_type": "display_data"
    }
   ],
   "source": [
    "# plotting normal patients\n",
    "fig = plt.figure(figsize=(15,5))\n",
    "ax1 = plt.subplot2grid((1,2),(0,0))\n",
    "sns.countplot(x =df_0['st_slope'],palette='cubehelix')\n",
    "plt.title('ST SLOPE OF NORMAL PATIENTS', fontsize=15, weight='bold')\n",
    "\n",
    "#plotting heart patients\n",
    "ax1 = plt.subplot2grid((1,2),(0,1))\n",
    "sns.countplot(x =df_1['st_slope'], palette='viridis')\n",
    "plt.title('ST SLOPE OF HEART PATIENTS', fontsize=15, weight='bold' )\n",
    "plt.show()"
   ]
  },
  {
   "cell_type": "code",
   "execution_count": 91,
   "id": "d38d5698",
   "metadata": {
    "papermill": {
     "duration": 0.064205,
     "end_time": "2023-04-02T06:50:34.131364",
     "exception": false,
     "start_time": "2023-04-02T06:50:34.067159",
     "status": "completed"
    },
    "tags": []
   },
   "outputs": [
    {
     "data": {
      "text/html": [
       "<style type=\"text/css\">\n",
       "#T_e0752_row0_col0, #T_e0752_row0_col1 {\n",
       "  background-color: #ebf3eb;\n",
       "  color: #000000;\n",
       "}\n",
       "#T_e0752_row1_col0 {\n",
       "  background-color: #8dc58d;\n",
       "  color: #000000;\n",
       "}\n",
       "#T_e0752_row1_col1, #T_e0752_row2_col0 {\n",
       "  background-color: #008000;\n",
       "  color: #f1f1f1;\n",
       "}\n",
       "#T_e0752_row2_col1 {\n",
       "  background-color: #9fce9f;\n",
       "  color: #000000;\n",
       "}\n",
       "</style>\n",
       "<table id=\"T_e0752_\">\n",
       "  <thead>\n",
       "    <tr>\n",
       "      <th class=\"index_name level0\" >target</th>\n",
       "      <th class=\"col_heading level0 col0\" >0</th>\n",
       "      <th class=\"col_heading level0 col1\" >1</th>\n",
       "    </tr>\n",
       "    <tr>\n",
       "      <th class=\"index_name level0\" >st_slope</th>\n",
       "      <th class=\"blank col0\" >&nbsp;</th>\n",
       "      <th class=\"blank col1\" >&nbsp;</th>\n",
       "    </tr>\n",
       "  </thead>\n",
       "  <tbody>\n",
       "    <tr>\n",
       "      <th id=\"T_e0752_level0_row0\" class=\"row_heading level0 row0\" >downsloping</th>\n",
       "      <td id=\"T_e0752_row0_col0\" class=\"data row0 col0\" >5.330000</td>\n",
       "      <td id=\"T_e0752_row0_col1\" class=\"data row0 col1\" >8.330000</td>\n",
       "    </tr>\n",
       "    <tr>\n",
       "      <th id=\"T_e0752_level0_row1\" class=\"row_heading level0 row1\" >flat</th>\n",
       "      <td id=\"T_e0752_row1_col0\" class=\"data row1 col0\" >29.330000</td>\n",
       "      <td id=\"T_e0752_row1_col1\" class=\"data row1 col1\" >65.000000</td>\n",
       "    </tr>\n",
       "    <tr>\n",
       "      <th id=\"T_e0752_level0_row2\" class=\"row_heading level0 row2\" >upsloping</th>\n",
       "      <td id=\"T_e0752_row2_col0\" class=\"data row2 col0\" >65.330000</td>\n",
       "      <td id=\"T_e0752_row2_col1\" class=\"data row2 col1\" >26.670000</td>\n",
       "    </tr>\n",
       "  </tbody>\n",
       "</table>\n"
      ],
      "text/plain": [
       "<pandas.io.formats.style.Styler at 0x1f6ac1438e0>"
      ]
     },
     "execution_count": 91,
     "metadata": {},
     "output_type": "execute_result"
    }
   ],
   "source": [
    "plot_criteria= ['st_slope', 'target']\n",
    "cm = sns.light_palette(\"green\", as_cmap=True)\n",
    "(round(pd.crosstab(df[plot_criteria[0]], df[plot_criteria[1]], normalize='columns') * 100,2)).style.background_gradient(cmap = cm)"
   ]
  },
  {
   "cell_type": "code",
   "execution_count": 29,
   "id": "488f9262",
   "metadata": {
    "papermill": {
     "duration": 0.378003,
     "end_time": "2023-04-02T06:50:34.535835",
     "exception": false,
     "start_time": "2023-04-02T06:50:34.157832",
     "status": "completed"
    },
    "tags": []
   },
   "outputs": [
    {
     "data": {
      "image/png": "[encoded data removed]",
      "text/plain": [
       "<Figure size 1080x360 with 2 Axes>"
      ]
     },
     "metadata": {
      "needs_background": "light"
     },
     "output_type": "display_data"
    }
   ],
   "source": [
    "fig = plt.figure(figsize=(15,5))\n",
    "ax1 = plt.subplot2grid((1,2),(0,0))\n",
    "sns.countplot(x =df_0['thalassemia'],palette='cubehelix')\n",
    "plt.title('thalassemia  OF NORMAL PATIENTS', fontsize=15, weight='bold')\n",
    "\n",
    "#plotting heart patients\n",
    "ax1 = plt.subplot2grid((1,2),(0,1))\n",
    "sns.countplot(x =df_1['thalassemia'], palette='viridis')\n",
    "plt.title('thalassemia OF HEART PATIENTS', fontsize=15, weight='bold' )\n",
    "plt.show()"
   ]
  },
  {
   "cell_type": "code",
   "execution_count": 30,
   "id": "a68d3d73",
   "metadata": {
    "papermill": {
     "duration": 0.064706,
     "end_time": "2023-04-02T06:50:34.626763",
     "exception": false,
     "start_time": "2023-04-02T06:50:34.562057",
     "status": "completed"
    },
    "tags": []
   },
   "outputs": [
    {
     "data": {
      "text/html": [
       "<style type=\"text/css\">\n",
       "#T_d9474_row0_col0, #T_d9474_row2_col1 {\n",
       "  background-color: #008000;\n",
       "  color: #f1f1f1;\n",
       "}\n",
       "#T_d9474_row0_col1 {\n",
       "  background-color: #98ca98;\n",
       "  color: #000000;\n",
       "}\n",
       "#T_d9474_row1_col0, #T_d9474_row1_col1 {\n",
       "  background-color: #ebf3eb;\n",
       "  color: #000000;\n",
       "}\n",
       "#T_d9474_row2_col0 {\n",
       "  background-color: #c3e0c3;\n",
       "  color: #000000;\n",
       "}\n",
       "</style>\n",
       "<table id=\"T_d9474_\">\n",
       "  <thead>\n",
       "    <tr>\n",
       "      <th class=\"index_name level0\" >target</th>\n",
       "      <th class=\"col_heading level0 col0\" >0</th>\n",
       "      <th class=\"col_heading level0 col1\" >1</th>\n",
       "    </tr>\n",
       "    <tr>\n",
       "      <th class=\"index_name level0\" >thalassemia</th>\n",
       "      <th class=\"blank col0\" >&nbsp;</th>\n",
       "      <th class=\"blank col1\" >&nbsp;</th>\n",
       "    </tr>\n",
       "  </thead>\n",
       "  <tbody>\n",
       "    <tr>\n",
       "      <th id=\"T_d9474_level0_row0\" class=\"row_heading level0 row0\" >fixed defect</th>\n",
       "      <td id=\"T_d9474_row0_col0\" class=\"data row0 col0\" >79.330000</td>\n",
       "      <td id=\"T_d9474_row0_col1\" class=\"data row0 col1\" >27.500000</td>\n",
       "    </tr>\n",
       "    <tr>\n",
       "      <th id=\"T_d9474_level0_row1\" class=\"row_heading level0 row1\" >normal blood flow</th>\n",
       "      <td id=\"T_d9474_row1_col0\" class=\"data row1 col0\" >4.000000</td>\n",
       "      <td id=\"T_d9474_row1_col1\" class=\"data row1 col1\" >6.670000</td>\n",
       "    </tr>\n",
       "    <tr>\n",
       "      <th id=\"T_d9474_level0_row2\" class=\"row_heading level0 row2\" >reversible defect</th>\n",
       "      <td id=\"T_d9474_row2_col0\" class=\"data row2 col0\" >16.670000</td>\n",
       "      <td id=\"T_d9474_row2_col1\" class=\"data row2 col1\" >65.830000</td>\n",
       "    </tr>\n",
       "  </tbody>\n",
       "</table>\n"
      ],
      "text/plain": [
       "<pandas.io.formats.style.Styler at 0x1f6a0323040>"
      ]
     },
     "execution_count": 30,
     "metadata": {},
     "output_type": "execute_result"
    }
   ],
   "source": [
    "plot_criteria= ['thalassemia', 'target']\n",
    "cm = sns.light_palette(\"green\", as_cmap=True)\n",
    "(round(pd.crosstab(df[plot_criteria[0]], df[plot_criteria[1]], normalize='columns') * 100,2)).style.background_gradient(cmap = cm)"
   ]
  },
  {
   "cell_type": "markdown",
   "id": "7e01c410",
   "metadata": {
    "papermill": {
     "duration": 0.026731,
     "end_time": "2023-04-02T06:50:34.680289",
     "exception": false,
     "start_time": "2023-04-02T06:50:34.653558",
     "status": "completed"
    },
    "tags": []
   },
   "source": [
    "## Distribution of Numerical features"
   ]
  },
  {
   "cell_type": "code",
   "execution_count": 92,
   "id": "a8c24ec8",
   "metadata": {
    "papermill": {
     "duration": 0.428047,
     "end_time": "2023-04-02T06:51:28.193262",
     "exception": false,
     "start_time": "2023-04-02T06:51:27.765215",
     "status": "completed"
    },
    "tags": []
   },
   "outputs": [
    {
     "data": {
      "text/plain": [
       "<AxesSubplot:xlabel='resting_blood_pressure', ylabel='cholesterol'>"
      ]
     },
     "execution_count": 92,
     "metadata": {},
     "output_type": "execute_result"
    },
    {
     "data": {
      "image/png": "[encoded data removed]",
      "text/plain": [
       "<Figure size 432x288 with 1 Axes>"
      ]
     },
     "metadata": {
      "needs_background": "light"
     },
     "output_type": "display_data"
    }
   ],
   "source": [
    "sns.scatterplot(x = 'resting_blood_pressure', y = 'cholesterol', hue = 'target', data = df)"
   ]
  },
  {
   "cell_type": "code",
   "execution_count": 93,
   "id": "93ed8ee6",
   "metadata": {
    "papermill": {
     "duration": 0.418113,
     "end_time": "2023-04-02T06:51:28.686085",
     "exception": false,
     "start_time": "2023-04-02T06:51:28.267972",
     "status": "completed"
    },
    "tags": []
   },
   "outputs": [
    {
     "data": {
      "text/plain": [
       "<AxesSubplot:xlabel='resting_blood_pressure', ylabel='age'>"
      ]
     },
     "execution_count": 93,
     "metadata": {},
     "output_type": "execute_result"
    },
    {
     "data": {
      "image/png": "[encoded data removed]",
      "text/plain": [
       "<Figure size 432x288 with 1 Axes>"
      ]
     },
     "metadata": {
      "needs_background": "light"
     },
     "output_type": "display_data"
    }
   ],
   "source": [
    "sns.scatterplot(x = 'resting_blood_pressure', y = 'age', hue = 'target', data = df)"
   ]
  },
  {
   "cell_type": "code",
   "execution_count": 94,
   "id": "3383bba4",
   "metadata": {
    "papermill": {
     "duration": 0.108266,
     "end_time": "2023-04-02T06:51:28.874072",
     "exception": false,
     "start_time": "2023-04-02T06:51:28.765806",
     "status": "completed"
    },
    "tags": []
   },
   "outputs": [
    {
     "data": {
      "text/html": [
       "<div>\n",
       "<style scoped>\n",
       "    .dataframe tbody tr th:only-of-type {\n",
       "        vertical-align: middle;\n",
       "    }\n",
       "\n",
       "    .dataframe tbody tr th {\n",
       "        vertical-align: top;\n",
       "    }\n",
       "\n",
       "    .dataframe thead th {\n",
       "        text-align: right;\n",
       "    }\n",
       "</style>\n",
       "<table border=\"1\" class=\"dataframe\">\n",
       "  <thead>\n",
       "    <tr style=\"text-align: right;\">\n",
       "      <th></th>\n",
       "      <th>age</th>\n",
       "      <th>resting_blood_pressure</th>\n",
       "      <th>cholesterol</th>\n",
       "      <th>fasting_blood_sugar</th>\n",
       "      <th>max_heart_rate_achieved</th>\n",
       "      <th>exercise_induced_angina</th>\n",
       "      <th>st_depression</th>\n",
       "      <th>ca</th>\n",
       "      <th>target</th>\n",
       "      <th>sex_male</th>\n",
       "      <th>chest_pain_type_atypical angina</th>\n",
       "      <th>chest_pain_type_non-angina pain</th>\n",
       "      <th>chest_pain_type_typical angina</th>\n",
       "      <th>rest_ecg_left ventricular hypertrophy</th>\n",
       "      <th>rest_ecg_normal</th>\n",
       "      <th>st_slope_flat</th>\n",
       "      <th>st_slope_upsloping</th>\n",
       "      <th>thalassemia_normal blood flow</th>\n",
       "      <th>thalassemia_reversible defect</th>\n",
       "    </tr>\n",
       "  </thead>\n",
       "  <tbody>\n",
       "    <tr>\n",
       "      <th>0</th>\n",
       "      <td>70</td>\n",
       "      <td>130</td>\n",
       "      <td>322</td>\n",
       "      <td>0</td>\n",
       "      <td>109</td>\n",
       "      <td>0</td>\n",
       "      <td>2.4</td>\n",
       "      <td>3</td>\n",
       "      <td>1</td>\n",
       "      <td>1</td>\n",
       "      <td>0</td>\n",
       "      <td>0</td>\n",
       "      <td>0</td>\n",
       "      <td>1</td>\n",
       "      <td>0</td>\n",
       "      <td>1</td>\n",
       "      <td>0</td>\n",
       "      <td>0</td>\n",
       "      <td>0</td>\n",
       "    </tr>\n",
       "    <tr>\n",
       "      <th>1</th>\n",
       "      <td>67</td>\n",
       "      <td>115</td>\n",
       "      <td>564</td>\n",
       "      <td>0</td>\n",
       "      <td>160</td>\n",
       "      <td>0</td>\n",
       "      <td>1.6</td>\n",
       "      <td>0</td>\n",
       "      <td>0</td>\n",
       "      <td>0</td>\n",
       "      <td>0</td>\n",
       "      <td>1</td>\n",
       "      <td>0</td>\n",
       "      <td>1</td>\n",
       "      <td>0</td>\n",
       "      <td>1</td>\n",
       "      <td>0</td>\n",
       "      <td>0</td>\n",
       "      <td>1</td>\n",
       "    </tr>\n",
       "    <tr>\n",
       "      <th>2</th>\n",
       "      <td>57</td>\n",
       "      <td>124</td>\n",
       "      <td>261</td>\n",
       "      <td>0</td>\n",
       "      <td>141</td>\n",
       "      <td>0</td>\n",
       "      <td>0.3</td>\n",
       "      <td>0</td>\n",
       "      <td>1</td>\n",
       "      <td>1</td>\n",
       "      <td>1</td>\n",
       "      <td>0</td>\n",
       "      <td>0</td>\n",
       "      <td>0</td>\n",
       "      <td>1</td>\n",
       "      <td>0</td>\n",
       "      <td>1</td>\n",
       "      <td>0</td>\n",
       "      <td>1</td>\n",
       "    </tr>\n",
       "    <tr>\n",
       "      <th>3</th>\n",
       "      <td>64</td>\n",
       "      <td>128</td>\n",
       "      <td>263</td>\n",
       "      <td>0</td>\n",
       "      <td>105</td>\n",
       "      <td>1</td>\n",
       "      <td>0.2</td>\n",
       "      <td>1</td>\n",
       "      <td>0</td>\n",
       "      <td>1</td>\n",
       "      <td>0</td>\n",
       "      <td>0</td>\n",
       "      <td>0</td>\n",
       "      <td>0</td>\n",
       "      <td>1</td>\n",
       "      <td>1</td>\n",
       "      <td>0</td>\n",
       "      <td>0</td>\n",
       "      <td>1</td>\n",
       "    </tr>\n",
       "    <tr>\n",
       "      <th>4</th>\n",
       "      <td>74</td>\n",
       "      <td>120</td>\n",
       "      <td>269</td>\n",
       "      <td>0</td>\n",
       "      <td>121</td>\n",
       "      <td>1</td>\n",
       "      <td>0.2</td>\n",
       "      <td>1</td>\n",
       "      <td>0</td>\n",
       "      <td>0</td>\n",
       "      <td>1</td>\n",
       "      <td>0</td>\n",
       "      <td>0</td>\n",
       "      <td>1</td>\n",
       "      <td>0</td>\n",
       "      <td>0</td>\n",
       "      <td>1</td>\n",
       "      <td>0</td>\n",
       "      <td>0</td>\n",
       "    </tr>\n",
       "  </tbody>\n",
       "</table>\n",
       "</div>"
      ],
      "text/plain": [
       "   age  resting_blood_pressure  cholesterol  fasting_blood_sugar  \\\n",
       "0   70                     130          322                    0   \n",
       "1   67                     115          564                    0   \n",
       "2   57                     124          261                    0   \n",
       "3   64                     128          263                    0   \n",
       "4   74                     120          269                    0   \n",
       "\n",
       "   max_heart_rate_achieved  exercise_induced_angina  st_depression  ca  \\\n",
       "0                      109                        0            2.4   3   \n",
       "1                      160                        0            1.6   0   \n",
       "2                      141                        0            0.3   0   \n",
       "3                      105                        1            0.2   1   \n",
       "4                      121                        1            0.2   1   \n",
       "\n",
       "   target  sex_male  chest_pain_type_atypical angina  \\\n",
       "0       1         1                                0   \n",
       "1       0         0                                0   \n",
       "2       1         1                                1   \n",
       "3       0         1                                0   \n",
       "4       0         0                                1   \n",
       "\n",
       "   chest_pain_type_non-angina pain  chest_pain_type_typical angina   \\\n",
       "0                                0                                0   \n",
       "1                                1                                0   \n",
       "2                                0                                0   \n",
       "3                                0                                0   \n",
       "4                                0                                0   \n",
       "\n",
       "   rest_ecg_left ventricular hypertrophy  rest_ecg_normal  st_slope_flat  \\\n",
       "0                                      1                0              1   \n",
       "1                                      1                0              1   \n",
       "2                                      0                1              0   \n",
       "3                                      0                1              1   \n",
       "4                                      1                0              0   \n",
       "\n",
       "   st_slope_upsloping  thalassemia_normal blood flow  \\\n",
       "0                   0                              0   \n",
       "1                   0                              0   \n",
       "2                   1                              0   \n",
       "3                   0                              0   \n",
       "4                   1                              0   \n",
       "\n",
       "   thalassemia_reversible defect  \n",
       "0                              0  \n",
       "1                              1  \n",
       "2                              1  \n",
       "3                              1  \n",
       "4                              0  "
      ]
     },
     "execution_count": 94,
     "metadata": {},
     "output_type": "execute_result"
    }
   ],
   "source": [
    "df = pd.get_dummies(df, drop_first=True)\n",
    "df.head()"
   ]
  },
  {
   "cell_type": "code",
   "execution_count": 95,
   "id": "52cfbe80",
   "metadata": {
    "papermill": {
     "duration": 0.090489,
     "end_time": "2023-04-02T06:51:29.039118",
     "exception": false,
     "start_time": "2023-04-02T06:51:28.948629",
     "status": "completed"
    },
    "tags": []
   },
   "outputs": [
    {
     "data": {
      "text/plain": [
       "(270, 19)"
      ]
     },
     "execution_count": 95,
     "metadata": {},
     "output_type": "execute_result"
    }
   ],
   "source": [
    "df.shape"
   ]
  },
  {
   "cell_type": "code",
   "execution_count": 96,
   "id": "a9cd3915",
   "metadata": {
    "papermill": {
     "duration": 0.08884,
     "end_time": "2023-04-02T06:51:29.204036",
     "exception": false,
     "start_time": "2023-04-02T06:51:29.115196",
     "status": "completed"
    },
    "tags": []
   },
   "outputs": [],
   "source": [
    "X = df.drop(['target'],axis=1)\n",
    "y = df['target']"
   ]
  },
  {
   "cell_type": "markdown",
   "id": "f725cc60",
   "metadata": {
    "papermill": {
     "duration": 0.076241,
     "end_time": "2023-04-02T06:51:30.050731",
     "exception": false,
     "start_time": "2023-04-02T06:51:29.974490",
     "status": "completed"
    },
    "tags": []
   },
   "source": [
    "## Modelling"
   ]
  },
  {
   "cell_type": "code",
   "execution_count": 98,
   "id": "04f74228",
   "metadata": {
    "papermill": {
     "duration": 0.091949,
     "end_time": "2023-04-02T06:51:30.219149",
     "exception": false,
     "start_time": "2023-04-02T06:51:30.127200",
     "status": "completed"
    },
    "tags": []
   },
   "outputs": [],
   "source": [
    "X_train, X_test, y_train, y_test = train_test_split(\n",
    "   X,y, test_size=0.2, random_state=9\n",
    ")"
   ]
  },
  {
   "cell_type": "code",
   "execution_count": 99,
   "id": "fb4d8baf",
   "metadata": {
    "papermill": {
     "duration": 0.089742,
     "end_time": "2023-04-02T06:51:30.387018",
     "exception": false,
     "start_time": "2023-04-02T06:51:30.297276",
     "status": "completed"
    },
    "tags": []
   },
   "outputs": [
    {
     "name": "stdout",
     "output_type": "stream",
     "text": [
      "(270, 18) (216, 18) (54, 18)\n"
     ]
    }
   ],
   "source": [
    "print(X.shape,X_train.shape, X_test.shape)"
   ]
  },
  {
   "cell_type": "code",
   "execution_count": 100,
   "id": "8beb7fdc",
   "metadata": {
    "papermill": {
     "duration": 0.110171,
     "end_time": "2023-04-02T06:51:30.573564",
     "exception": false,
     "start_time": "2023-04-02T06:51:30.463393",
     "status": "completed"
    },
    "tags": []
   },
   "outputs": [
    {
     "data": {
      "text/html": [
       "<div>\n",
       "<style scoped>\n",
       "    .dataframe tbody tr th:only-of-type {\n",
       "        vertical-align: middle;\n",
       "    }\n",
       "\n",
       "    .dataframe tbody tr th {\n",
       "        vertical-align: top;\n",
       "    }\n",
       "\n",
       "    .dataframe thead th {\n",
       "        text-align: right;\n",
       "    }\n",
       "</style>\n",
       "<table border=\"1\" class=\"dataframe\">\n",
       "  <thead>\n",
       "    <tr style=\"text-align: right;\">\n",
       "      <th></th>\n",
       "      <th>age</th>\n",
       "      <th>resting_blood_pressure</th>\n",
       "      <th>cholesterol</th>\n",
       "      <th>fasting_blood_sugar</th>\n",
       "      <th>max_heart_rate_achieved</th>\n",
       "      <th>exercise_induced_angina</th>\n",
       "      <th>st_depression</th>\n",
       "      <th>ca</th>\n",
       "      <th>sex_male</th>\n",
       "      <th>chest_pain_type_atypical angina</th>\n",
       "      <th>chest_pain_type_non-angina pain</th>\n",
       "      <th>chest_pain_type_typical angina</th>\n",
       "      <th>rest_ecg_left ventricular hypertrophy</th>\n",
       "      <th>rest_ecg_normal</th>\n",
       "      <th>st_slope_flat</th>\n",
       "      <th>st_slope_upsloping</th>\n",
       "      <th>thalassemia_normal blood flow</th>\n",
       "      <th>thalassemia_reversible defect</th>\n",
       "    </tr>\n",
       "  </thead>\n",
       "  <tbody>\n",
       "    <tr>\n",
       "      <th>231</th>\n",
       "      <td>0.208333</td>\n",
       "      <td>0.226415</td>\n",
       "      <td>0.168675</td>\n",
       "      <td>0</td>\n",
       "      <td>0.526718</td>\n",
       "      <td>0</td>\n",
       "      <td>0.193548</td>\n",
       "      <td>0</td>\n",
       "      <td>1</td>\n",
       "      <td>0</td>\n",
       "      <td>0</td>\n",
       "      <td>0</td>\n",
       "      <td>0</td>\n",
       "      <td>1</td>\n",
       "      <td>1</td>\n",
       "      <td>0</td>\n",
       "      <td>0</td>\n",
       "      <td>1</td>\n",
       "    </tr>\n",
       "    <tr>\n",
       "      <th>198</th>\n",
       "      <td>0.833333</td>\n",
       "      <td>0.433962</td>\n",
       "      <td>0.216867</td>\n",
       "      <td>0</td>\n",
       "      <td>0.610687</td>\n",
       "      <td>0</td>\n",
       "      <td>0.290323</td>\n",
       "      <td>2</td>\n",
       "      <td>0</td>\n",
       "      <td>0</td>\n",
       "      <td>0</td>\n",
       "      <td>1</td>\n",
       "      <td>0</td>\n",
       "      <td>1</td>\n",
       "      <td>0</td>\n",
       "      <td>1</td>\n",
       "      <td>0</td>\n",
       "      <td>0</td>\n",
       "    </tr>\n",
       "    <tr>\n",
       "      <th>155</th>\n",
       "      <td>0.354167</td>\n",
       "      <td>0.103774</td>\n",
       "      <td>0.132530</td>\n",
       "      <td>0</td>\n",
       "      <td>0.770992</td>\n",
       "      <td>0</td>\n",
       "      <td>0.000000</td>\n",
       "      <td>0</td>\n",
       "      <td>0</td>\n",
       "      <td>1</td>\n",
       "      <td>0</td>\n",
       "      <td>0</td>\n",
       "      <td>0</td>\n",
       "      <td>1</td>\n",
       "      <td>0</td>\n",
       "      <td>1</td>\n",
       "      <td>0</td>\n",
       "      <td>0</td>\n",
       "    </tr>\n",
       "    <tr>\n",
       "      <th>16</th>\n",
       "      <td>0.354167</td>\n",
       "      <td>0.433962</td>\n",
       "      <td>0.390361</td>\n",
       "      <td>0</td>\n",
       "      <td>0.374046</td>\n",
       "      <td>1</td>\n",
       "      <td>0.290323</td>\n",
       "      <td>2</td>\n",
       "      <td>1</td>\n",
       "      <td>0</td>\n",
       "      <td>0</td>\n",
       "      <td>0</td>\n",
       "      <td>0</td>\n",
       "      <td>1</td>\n",
       "      <td>1</td>\n",
       "      <td>0</td>\n",
       "      <td>0</td>\n",
       "      <td>1</td>\n",
       "    </tr>\n",
       "    <tr>\n",
       "      <th>213</th>\n",
       "      <td>0.604167</td>\n",
       "      <td>0.320755</td>\n",
       "      <td>0.161446</td>\n",
       "      <td>0</td>\n",
       "      <td>0.458015</td>\n",
       "      <td>1</td>\n",
       "      <td>0.354839</td>\n",
       "      <td>3</td>\n",
       "      <td>1</td>\n",
       "      <td>0</td>\n",
       "      <td>0</td>\n",
       "      <td>0</td>\n",
       "      <td>1</td>\n",
       "      <td>0</td>\n",
       "      <td>1</td>\n",
       "      <td>0</td>\n",
       "      <td>0</td>\n",
       "      <td>1</td>\n",
       "    </tr>\n",
       "  </tbody>\n",
       "</table>\n",
       "</div>"
      ],
      "text/plain": [
       "          age  resting_blood_pressure  cholesterol  fasting_blood_sugar  \\\n",
       "231  0.208333                0.226415     0.168675                    0   \n",
       "198  0.833333                0.433962     0.216867                    0   \n",
       "155  0.354167                0.103774     0.132530                    0   \n",
       "16   0.354167                0.433962     0.390361                    0   \n",
       "213  0.604167                0.320755     0.161446                    0   \n",
       "\n",
       "     max_heart_rate_achieved  exercise_induced_angina  st_depression  ca  \\\n",
       "231                 0.526718                        0       0.193548   0   \n",
       "198                 0.610687                        0       0.290323   2   \n",
       "155                 0.770992                        0       0.000000   0   \n",
       "16                  0.374046                        1       0.290323   2   \n",
       "213                 0.458015                        1       0.354839   3   \n",
       "\n",
       "     sex_male  chest_pain_type_atypical angina  \\\n",
       "231         1                                0   \n",
       "198         0                                0   \n",
       "155         0                                1   \n",
       "16          1                                0   \n",
       "213         1                                0   \n",
       "\n",
       "     chest_pain_type_non-angina pain  chest_pain_type_typical angina   \\\n",
       "231                                0                                0   \n",
       "198                                0                                1   \n",
       "155                                0                                0   \n",
       "16                                 0                                0   \n",
       "213                                0                                0   \n",
       "\n",
       "     rest_ecg_left ventricular hypertrophy  rest_ecg_normal  st_slope_flat  \\\n",
       "231                                      0                1              1   \n",
       "198                                      0                1              0   \n",
       "155                                      0                1              0   \n",
       "16                                       0                1              1   \n",
       "213                                      1                0              1   \n",
       "\n",
       "     st_slope_upsloping  thalassemia_normal blood flow  \\\n",
       "231                   0                              0   \n",
       "198                   1                              0   \n",
       "155                   1                              0   \n",
       "16                    0                              0   \n",
       "213                   0                              0   \n",
       "\n",
       "     thalassemia_reversible defect  \n",
       "231                              1  \n",
       "198                              0  \n",
       "155                              0  \n",
       "16                               1  \n",
       "213                              1  "
      ]
     },
     "execution_count": 100,
     "metadata": {},
     "output_type": "execute_result"
    }
   ],
   "source": [
    "from sklearn.preprocessing import MinMaxScaler\n",
    "scaler = MinMaxScaler()\n",
    "X_train[['age','resting_blood_pressure','cholesterol','max_heart_rate_achieved','st_depression']] = scaler.fit_transform(X_train[['age','resting_blood_pressure','cholesterol','max_heart_rate_achieved','st_depression']])\n",
    "X_train.head()"
   ]
  },
  {
   "cell_type": "code",
   "execution_count": 101,
   "id": "1e454ce6",
   "metadata": {
    "papermill": {
     "duration": 0.111,
     "end_time": "2023-04-02T06:51:30.760797",
     "exception": false,
     "start_time": "2023-04-02T06:51:30.649797",
     "status": "completed"
    },
    "tags": []
   },
   "outputs": [
    {
     "data": {
      "text/html": [
       "<div>\n",
       "<style scoped>\n",
       "    .dataframe tbody tr th:only-of-type {\n",
       "        vertical-align: middle;\n",
       "    }\n",
       "\n",
       "    .dataframe tbody tr th {\n",
       "        vertical-align: top;\n",
       "    }\n",
       "\n",
       "    .dataframe thead th {\n",
       "        text-align: right;\n",
       "    }\n",
       "</style>\n",
       "<table border=\"1\" class=\"dataframe\">\n",
       "  <thead>\n",
       "    <tr style=\"text-align: right;\">\n",
       "      <th></th>\n",
       "      <th>age</th>\n",
       "      <th>resting_blood_pressure</th>\n",
       "      <th>cholesterol</th>\n",
       "      <th>fasting_blood_sugar</th>\n",
       "      <th>max_heart_rate_achieved</th>\n",
       "      <th>exercise_induced_angina</th>\n",
       "      <th>st_depression</th>\n",
       "      <th>ca</th>\n",
       "      <th>sex_male</th>\n",
       "      <th>chest_pain_type_atypical angina</th>\n",
       "      <th>chest_pain_type_non-angina pain</th>\n",
       "      <th>chest_pain_type_typical angina</th>\n",
       "      <th>rest_ecg_left ventricular hypertrophy</th>\n",
       "      <th>rest_ecg_normal</th>\n",
       "      <th>st_slope_flat</th>\n",
       "      <th>st_slope_upsloping</th>\n",
       "      <th>thalassemia_normal blood flow</th>\n",
       "      <th>thalassemia_reversible defect</th>\n",
       "    </tr>\n",
       "  </thead>\n",
       "  <tbody>\n",
       "    <tr>\n",
       "      <th>81</th>\n",
       "      <td>0.125000</td>\n",
       "      <td>0.245283</td>\n",
       "      <td>0.118072</td>\n",
       "      <td>0</td>\n",
       "      <td>0.450382</td>\n",
       "      <td>1</td>\n",
       "      <td>0.258065</td>\n",
       "      <td>0</td>\n",
       "      <td>1</td>\n",
       "      <td>0</td>\n",
       "      <td>0</td>\n",
       "      <td>0</td>\n",
       "      <td>0</td>\n",
       "      <td>1</td>\n",
       "      <td>1</td>\n",
       "      <td>0</td>\n",
       "      <td>0</td>\n",
       "      <td>1</td>\n",
       "    </tr>\n",
       "    <tr>\n",
       "      <th>149</th>\n",
       "      <td>0.250000</td>\n",
       "      <td>0.169811</td>\n",
       "      <td>0.286747</td>\n",
       "      <td>0</td>\n",
       "      <td>0.770992</td>\n",
       "      <td>1</td>\n",
       "      <td>0.000000</td>\n",
       "      <td>0</td>\n",
       "      <td>0</td>\n",
       "      <td>0</td>\n",
       "      <td>1</td>\n",
       "      <td>0</td>\n",
       "      <td>1</td>\n",
       "      <td>0</td>\n",
       "      <td>0</td>\n",
       "      <td>1</td>\n",
       "      <td>0</td>\n",
       "      <td>0</td>\n",
       "    </tr>\n",
       "    <tr>\n",
       "      <th>107</th>\n",
       "      <td>0.645833</td>\n",
       "      <td>0.528302</td>\n",
       "      <td>0.262651</td>\n",
       "      <td>0</td>\n",
       "      <td>0.656489</td>\n",
       "      <td>0</td>\n",
       "      <td>0.419355</td>\n",
       "      <td>2</td>\n",
       "      <td>0</td>\n",
       "      <td>0</td>\n",
       "      <td>0</td>\n",
       "      <td>0</td>\n",
       "      <td>1</td>\n",
       "      <td>0</td>\n",
       "      <td>1</td>\n",
       "      <td>0</td>\n",
       "      <td>0</td>\n",
       "      <td>1</td>\n",
       "    </tr>\n",
       "    <tr>\n",
       "      <th>17</th>\n",
       "      <td>0.500000</td>\n",
       "      <td>0.433962</td>\n",
       "      <td>0.130120</td>\n",
       "      <td>1</td>\n",
       "      <td>0.641221</td>\n",
       "      <td>1</td>\n",
       "      <td>0.500000</td>\n",
       "      <td>0</td>\n",
       "      <td>1</td>\n",
       "      <td>0</td>\n",
       "      <td>0</td>\n",
       "      <td>0</td>\n",
       "      <td>1</td>\n",
       "      <td>0</td>\n",
       "      <td>0</td>\n",
       "      <td>0</td>\n",
       "      <td>0</td>\n",
       "      <td>1</td>\n",
       "    </tr>\n",
       "    <tr>\n",
       "      <th>266</th>\n",
       "      <td>0.312500</td>\n",
       "      <td>0.245283</td>\n",
       "      <td>0.274699</td>\n",
       "      <td>0</td>\n",
       "      <td>0.778626</td>\n",
       "      <td>0</td>\n",
       "      <td>0.000000</td>\n",
       "      <td>0</td>\n",
       "      <td>1</td>\n",
       "      <td>1</td>\n",
       "      <td>0</td>\n",
       "      <td>0</td>\n",
       "      <td>0</td>\n",
       "      <td>1</td>\n",
       "      <td>0</td>\n",
       "      <td>1</td>\n",
       "      <td>0</td>\n",
       "      <td>1</td>\n",
       "    </tr>\n",
       "  </tbody>\n",
       "</table>\n",
       "</div>"
      ],
      "text/plain": [
       "          age  resting_blood_pressure  cholesterol  fasting_blood_sugar  \\\n",
       "81   0.125000                0.245283     0.118072                    0   \n",
       "149  0.250000                0.169811     0.286747                    0   \n",
       "107  0.645833                0.528302     0.262651                    0   \n",
       "17   0.500000                0.433962     0.130120                    1   \n",
       "266  0.312500                0.245283     0.274699                    0   \n",
       "\n",
       "     max_heart_rate_achieved  exercise_induced_angina  st_depression  ca  \\\n",
       "81                  0.450382                        1       0.258065   0   \n",
       "149                 0.770992                        1       0.000000   0   \n",
       "107                 0.656489                        0       0.419355   2   \n",
       "17                  0.641221                        1       0.500000   0   \n",
       "266                 0.778626                        0       0.000000   0   \n",
       "\n",
       "     sex_male  chest_pain_type_atypical angina  \\\n",
       "81          1                                0   \n",
       "149         0                                0   \n",
       "107         0                                0   \n",
       "17          1                                0   \n",
       "266         1                                1   \n",
       "\n",
       "     chest_pain_type_non-angina pain  chest_pain_type_typical angina   \\\n",
       "81                                 0                                0   \n",
       "149                                1                                0   \n",
       "107                                0                                0   \n",
       "17                                 0                                0   \n",
       "266                                0                                0   \n",
       "\n",
       "     rest_ecg_left ventricular hypertrophy  rest_ecg_normal  st_slope_flat  \\\n",
       "81                                       0                1              1   \n",
       "149                                      1                0              0   \n",
       "107                                      1                0              1   \n",
       "17                                       1                0              0   \n",
       "266                                      0                1              0   \n",
       "\n",
       "     st_slope_upsloping  thalassemia_normal blood flow  \\\n",
       "81                    0                              0   \n",
       "149                   1                              0   \n",
       "107                   0                              0   \n",
       "17                    0                              0   \n",
       "266                   1                              0   \n",
       "\n",
       "     thalassemia_reversible defect  \n",
       "81                               1  \n",
       "149                              0  \n",
       "107                              1  \n",
       "17                               1  \n",
       "266                              1  "
      ]
     },
     "execution_count": 101,
     "metadata": {},
     "output_type": "execute_result"
    }
   ],
   "source": [
    "X_test[['age','resting_blood_pressure','cholesterol','max_heart_rate_achieved','st_depression']] = scaler.transform(X_test[['age','resting_blood_pressure','cholesterol','max_heart_rate_achieved','st_depression']])\n",
    "X_test.head()"
   ]
  },
  {
   "cell_type": "markdown",
   "id": "16c37de7",
   "metadata": {
    "papermill": {
     "duration": 0.078951,
     "end_time": "2023-04-02T06:51:39.604179",
     "exception": false,
     "start_time": "2023-04-02T06:51:39.525228",
     "status": "completed"
    },
    "tags": []
   },
   "source": [
    "Random Forest Classifier (criterion = 'entropy')"
   ]
  },
  {
   "cell_type": "markdown",
   "id": "433a31f3",
   "metadata": {
    "papermill": {
     "duration": 0.07954,
     "end_time": "2023-04-02T06:51:40.111956",
     "exception": false,
     "start_time": "2023-04-02T06:51:40.032416",
     "status": "completed"
    },
    "tags": []
   },
   "source": [
    "K nearest neighbour (n=9)"
   ]
  },
  {
   "cell_type": "code",
   "execution_count": 102,
   "id": "f10b0382",
   "metadata": {
    "papermill": {
     "duration": 0.096405,
     "end_time": "2023-04-02T06:51:40.286506",
     "exception": false,
     "start_time": "2023-04-02T06:51:40.190101",
     "status": "completed"
    },
    "tags": []
   },
   "outputs": [],
   "source": [
    "knn = KNeighborsClassifier(9)\n",
    "knn.fit(X_train,y_train)\n",
    "y_pred_knn = knn.predict(X_test)"
   ]
  },
  {
   "cell_type": "code",
   "execution_count": 103,
   "id": "09ea95a5",
   "metadata": {
    "papermill": {
     "duration": 0.387046,
     "end_time": "2023-04-02T06:51:43.186856",
     "exception": false,
     "start_time": "2023-04-02T06:51:42.799810",
     "status": "completed"
    },
    "tags": []
   },
   "outputs": [
    {
     "data": {
      "text/html": [
       "<div>\n",
       "<style scoped>\n",
       "    .dataframe tbody tr th:only-of-type {\n",
       "        vertical-align: middle;\n",
       "    }\n",
       "\n",
       "    .dataframe tbody tr th {\n",
       "        vertical-align: top;\n",
       "    }\n",
       "\n",
       "    .dataframe thead th {\n",
       "        text-align: right;\n",
       "    }\n",
       "</style>\n",
       "<table border=\"1\" class=\"dataframe\">\n",
       "  <thead>\n",
       "    <tr style=\"text-align: right;\">\n",
       "      <th></th>\n",
       "      <th>Model</th>\n",
       "      <th>Accuracy</th>\n",
       "      <th>Precision</th>\n",
       "      <th>Sensitivity</th>\n",
       "      <th>Specificity</th>\n",
       "      <th>F1 Score</th>\n",
       "      <th>ROC</th>\n",
       "      <th>Log_Loss</th>\n",
       "      <th>mathew_corrcoef</th>\n",
       "    </tr>\n",
       "  </thead>\n",
       "  <tbody>\n",
       "    <tr>\n",
       "      <th>0</th>\n",
       "      <td>KNN</td>\n",
       "      <td>0.888889</td>\n",
       "      <td>0.882353</td>\n",
       "      <td>0.789474</td>\n",
       "      <td>0.942857</td>\n",
       "      <td>0.833333</td>\n",
       "      <td>0.866165</td>\n",
       "      <td>3.837671</td>\n",
       "      <td>0.752996</td>\n",
       "    </tr>\n",
       "  </tbody>\n",
       "</table>\n",
       "</div>"
      ],
      "text/plain": [
       "  Model  Accuracy  Precision  Sensitivity  Specificity  F1 Score       ROC  \\\n",
       "0   KNN  0.888889   0.882353     0.789474     0.942857  0.833333  0.866165   \n",
       "\n",
       "   Log_Loss  mathew_corrcoef  \n",
       "0  3.837671         0.752996  "
      ]
     },
     "execution_count": 103,
     "metadata": {},
     "output_type": "execute_result"
    },
    {
     "data": {
      "image/png": "[encoded data removed]",
      "text/plain": [
       "<Figure size 432x288 with 2 Axes>"
      ]
     },
     "metadata": {
      "needs_background": "light"
     },
     "output_type": "display_data"
    }
   ],
   "source": [
    "CM=confusion_matrix(y_test,y_pred_knn)\n",
    "sns.heatmap(CM, annot=True)\n",
    "\n",
    "TN = CM[0][0]\n",
    "FN = CM[1][0]\n",
    "TP = CM[1][1]\n",
    "FP = CM[0][1]\n",
    "specificity = TN/(TN+FP)\n",
    "loss_log = log_loss(y_test, y_pred_knn)\n",
    "acc= accuracy_score(y_test, y_pred_knn)\n",
    "roc=roc_auc_score(y_test, y_pred_knn)\n",
    "prec = precision_score(y_test, y_pred_knn)\n",
    "rec = recall_score(y_test, y_pred_knn)\n",
    "f1 = f1_score(y_test, y_pred_knn)\n",
    "\n",
    "mathew = matthews_corrcoef(y_test, y_pred_knn)\n",
    "model_results =pd.DataFrame([['KNN',acc, prec,rec,specificity, f1,roc, loss_log,mathew]],\n",
    "               columns = ['Model', 'Accuracy','Precision', 'Sensitivity','Specificity', 'F1 Score','ROC','Log_Loss','mathew_corrcoef'])\n",
    "\n",
    "model_results\n"
   ]
  },
  {
   "cell_type": "code",
   "execution_count": 104,
   "id": "2205b350-21c9-41a0-ac93-38f5496d62ee",
   "metadata": {},
   "outputs": [
    {
     "data": {
      "text/plain": [
       "[0.125,\n",
       " 0.24528301886792458,\n",
       " 0.11807228915662649,\n",
       " 0.0,\n",
       " 0.45038167938931295,\n",
       " 1.0,\n",
       " 0.25806451612903225,\n",
       " 0.0,\n",
       " 1.0,\n",
       " 0.0,\n",
       " 0.0,\n",
       " 0.0,\n",
       " 0.0,\n",
       " 1.0,\n",
       " 1.0,\n",
       " 0.0,\n",
       " 0.0,\n",
       " 1.0]"
      ]
     },
     "execution_count": 104,
     "metadata": {},
     "output_type": "execute_result"
    }
   ],
   "source": [
    "list(X_test.iloc[0,:])"
   ]
  },
  {
   "cell_type": "code",
   "execution_count": 106,
   "id": "dc8ea610-a280-42d4-b451-3f41b20179a6",
   "metadata": {},
   "outputs": [
    {
     "data": {
      "text/plain": [
       "array([1], dtype=int64)"
      ]
     },
     "execution_count": 106,
     "metadata": {},
     "output_type": "execute_result"
    }
   ],
   "source": [
    "knn.predict([[0.125,\n",
    " 0.24528301886792458,\n",
    " 0.11807228915662649,\n",
    " 0.0,\n",
    " 0.45038167938931295,\n",
    " 1.0,\n",
    " 0.25806451612903225,\n",
    " 0.0,\n",
    " 1.0,\n",
    " 0.0,\n",
    " 0.0,\n",
    " 0.0,\n",
    " 0.0,\n",
    " 1.0,\n",
    " 1.0,\n",
    " 0.0,\n",
    " 0.0,\n",
    " 1.0]])"
   ]
  },
  {
   "cell_type": "code",
   "execution_count": 107,
   "id": "3054e250-51aa-490c-b754-57679f0c2ba6",
   "metadata": {},
   "outputs": [
    {
     "data": {
      "text/plain": [
       "1"
      ]
     },
     "execution_count": 107,
     "metadata": {},
     "output_type": "execute_result"
    }
   ],
   "source": [
    "y_pred_knn[0]"
   ]
  },
  {
   "cell_type": "code",
   "execution_count": null,
   "id": "9a3f6fbf-8f1f-4afd-babc-e54bbbb773e5",
   "metadata": {},
   "outputs": [],
   "source": []
  }
 ],
 "metadata": {
  "kernelspec": {
   "display_name": "Python 3 (ipykernel)",
   "language": "python",
   "name": "python3"
  },
  "language_info": {
   "codemirror_mode": {
    "name": "ipython",
    "version": 3
   },
   "file_extension": ".py",
   "mimetype": "text/x-python",
   "name": "python",
   "nbconvert_exporter": "python",
   "pygments_lexer": "ipython3",
   "version": "3.9.7"
  },
  "papermill": {
   "default_parameters": {},
   "duration": 89.927159,
   "end_time": "2023-04-02T06:51:46.336241",
   "environment_variables": {},
   "exception": null,
   "input_path": "__notebook__.ipynb",
   "output_path": "__notebook__.ipynb",
   "parameters": {},
   "start_time": "2023-04-02T06:50:16.409082",
   "version": "2.4.0"
  }
 },
 "nbformat": 4,
 "nbformat_minor": 5
}
